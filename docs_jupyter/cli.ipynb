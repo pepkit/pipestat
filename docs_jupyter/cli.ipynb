{
 "cells": [
  {
   "cell_type": "markdown",
   "metadata": {},
   "source": [
    "# Pipestat CLI\n",
    "\n",
    "**Before following this tutorial please make sure you're familiar with more information-rich \"Pipestat Python API\" tutorial.**"
   ]
  },
  {
   "cell_type": "markdown",
   "metadata": {},
   "source": [
    "## Prepare environment\n",
    "\n",
    "Pipestat command line interface can use multiple environment variables to avoid copious repetition of arguments in subsequent `pipestat` calls. \n",
    "\n",
    "Please refer to the [Environment variables reference](http://pipestat.databio.org/en/latest/env_vars/) for the complete list of supported environment variables. We will set a few for this tutorial:"
   ]
  },
  {
   "cell_type": "code",
   "execution_count": 1,
   "metadata": {},
   "outputs": [],
   "source": [
    "export PIPESTAT_RESULTS_SCHEMA=../tests/data/sample_output_schema.yaml\n",
    "export PIPESTAT_RECORD_ID=sample1\n",
    "export PIPESTAT_RESULTS_FILE=`mktemp` # temporary file for results storage\n",
    "export PIPESTAT_NAMESPACE=test"
   ]
  },
  {
   "cell_type": "markdown",
   "metadata": {},
   "source": [
    "## Usage demonstration\n",
    "\n",
    "### Reporting\n",
    "\n",
    "Naturally, the command line interface provides access to all the Python API functionalities of `pipestat`. So, for example, to report a result and back the object by a file use:"
   ]
  },
  {
   "cell_type": "code",
   "execution_count": 10,
   "metadata": {},
   "outputs": [
    {
     "name": "stdout",
     "output_type": "stream",
     "text": [
      "Reported records for 'sample1' in 'test' namespace:\n",
      " - number_of_things: 100\n"
     ]
    }
   ],
   "source": [
    "pipestat report -i number_of_things -v 100 --try-convert"
   ]
  },
  {
   "cell_type": "markdown",
   "metadata": {},
   "source": [
    "The result has been reported and the database file has been updated:"
   ]
  },
  {
   "cell_type": "code",
   "execution_count": 11,
   "metadata": {},
   "outputs": [
    {
     "name": "stdout",
     "output_type": "stream",
     "text": [
      "test:\n",
      "  sample1:\n",
      "    number_of_things: 100\n"
     ]
    }
   ],
   "source": [
    "cat $PIPESTAT_RESULTS_FILE"
   ]
  },
  {
   "cell_type": "markdown",
   "metadata": {},
   "source": [
    "Let's report another result:"
   ]
  },
  {
   "cell_type": "code",
   "execution_count": 12,
   "metadata": {},
   "outputs": [
    {
     "name": "stdout",
     "output_type": "stream",
     "text": [
      "Reported records for 'sample1' in 'test' namespace:\n",
      " - percentage_of_things: 1.1\n"
     ]
    }
   ],
   "source": [
    "pipestat report -i percentage_of_things -v 1.1 --try-convert"
   ]
  },
  {
   "cell_type": "code",
   "execution_count": 13,
   "metadata": {},
   "outputs": [
    {
     "name": "stdout",
     "output_type": "stream",
     "text": [
      "test:\n",
      "  sample1:\n",
      "    number_of_things: 100\n",
      "    percentage_of_things: 1.1\n"
     ]
    }
   ],
   "source": [
    "cat $PIPESTAT_RESULTS_FILE"
   ]
  },
  {
   "cell_type": "markdown",
   "metadata": {},
   "source": [
    "### Inspection\n",
    "\n",
    "`pipestat inspect` command is a way to briefly look at the general `PipestatManager` state, like number of records, type of backend etc."
   ]
  },
  {
   "cell_type": "code",
   "execution_count": 14,
   "metadata": {},
   "outputs": [
    {
     "name": "stdout",
     "output_type": "stream",
     "text": [
      "\n",
      "\n",
      "PipestatManager (test)\n",
      "Backend: file (/var/folders/3f/0wj7rs2144l9zsgxd3jn5nxc0000gn/T/tmp.Zid7BMd1)\n",
      "Results schema source: ../tests/data/sample_output_schema.yaml\n",
      "Status schema source: /Library/Frameworks/Python.framework/Versions/3.6/lib/python3.6/site-packages/pipestat/schemas/status_schema.yaml\n",
      "Records count: 1\n"
     ]
    }
   ],
   "source": [
    "pipestat inspect"
   ]
  },
  {
   "cell_type": "markdown",
   "metadata": {},
   "source": [
    "In order to display the contents of the results file or database table associated with the indicated namespace, add `--data` flag:"
   ]
  },
  {
   "cell_type": "code",
   "execution_count": 15,
   "metadata": {},
   "outputs": [
    {
     "name": "stdout",
     "output_type": "stream",
     "text": [
      "\n",
      "\n",
      "PipestatManager (test)\n",
      "Backend: file (/var/folders/3f/0wj7rs2144l9zsgxd3jn5nxc0000gn/T/tmp.Zid7BMd1)\n",
      "Results schema source: ../tests/data/sample_output_schema.yaml\n",
      "Status schema source: /Library/Frameworks/Python.framework/Versions/3.6/lib/python3.6/site-packages/pipestat/schemas/status_schema.yaml\n",
      "Records count: 1\n",
      "\n",
      "Data:\n",
      "test:\n",
      "  sample1:\n",
      "    number_of_things: 100\n",
      "    percentage_of_things: 1.1\n"
     ]
    }
   ],
   "source": [
    "pipestat inspect --data"
   ]
  },
  {
   "cell_type": "markdown",
   "metadata": {},
   "source": [
    "### Retrieval\n",
    "\n",
    "Naturally, the reported results can be retrieved. Just call `pipestat retrieve` to do so:"
   ]
  },
  {
   "cell_type": "code",
   "execution_count": 16,
   "metadata": {},
   "outputs": [
    {
     "name": "stdout",
     "output_type": "stream",
     "text": [
      "1.1\n"
     ]
    }
   ],
   "source": [
    "pipestat retrieve -i percentage_of_things"
   ]
  },
  {
   "cell_type": "markdown",
   "metadata": {},
   "source": [
    "### Removal\n",
    "\n",
    "In order to remove a result call `pipestat remove`:"
   ]
  },
  {
   "cell_type": "code",
   "execution_count": 17,
   "metadata": {},
   "outputs": [
    {
     "name": "stdout",
     "output_type": "stream",
     "text": [
      "Removed result 'percentage_of_things' for record 'sample1' from 'test' namespace\n"
     ]
    }
   ],
   "source": [
    "pipestat remove -i percentage_of_things"
   ]
  },
  {
   "cell_type": "markdown",
   "metadata": {},
   "source": [
    "The results file and the state of the `PipestatManager` object reflect the removal:"
   ]
  },
  {
   "cell_type": "code",
   "execution_count": 18,
   "metadata": {},
   "outputs": [
    {
     "name": "stdout",
     "output_type": "stream",
     "text": [
      "test:\n",
      "  sample1:\n",
      "    number_of_things: 100\n"
     ]
    }
   ],
   "source": [
    "cat $PIPESTAT_RESULTS_FILE"
   ]
  },
  {
   "cell_type": "code",
   "execution_count": 19,
   "metadata": {},
   "outputs": [
    {
     "name": "stdout",
     "output_type": "stream",
     "text": [
      "\n",
      "\n",
      "PipestatManager (test)\n",
      "Backend: file (/var/folders/3f/0wj7rs2144l9zsgxd3jn5nxc0000gn/T/tmp.Zid7BMd1)\n",
      "Results schema source: ../tests/data/sample_output_schema.yaml\n",
      "Status schema source: /Library/Frameworks/Python.framework/Versions/3.6/lib/python3.6/site-packages/pipestat/schemas/status_schema.yaml\n",
      "Records count: 1\n",
      "\n",
      "Data:\n",
      "test:\n",
      "  sample1:\n",
      "    number_of_things: 100\n"
     ]
    }
   ],
   "source": [
    "pipestat inspect --data"
   ]
  },
  {
   "cell_type": "markdown",
   "metadata": {},
   "source": [
    "## Status management\n",
    "\n",
    "To manage pipeline status call `pipestat status <subcommand>`:\n",
    "\n",
    "- `set` to set pipeline statuses\n",
    "- `get` to retrieve pipeline statuses\n",
    "\n",
    "Starting with `pipestat 0.0.3` the `--schema` argument is not required for status management if YAML file is used as the backend."
   ]
  },
  {
   "cell_type": "code",
   "execution_count": 20,
   "metadata": {},
   "outputs": [
    {
     "name": "stdout",
     "output_type": "stream",
     "text": [
      "running\n"
     ]
    }
   ],
   "source": [
    "pipestat status set --status-identifier running\n",
    "pipestat status get"
   ]
  },
  {
   "cell_type": "markdown",
   "metadata": {},
   "source": [
    "Note that only statuses defined in the status schema are supported:"
   ]
  },
  {
   "cell_type": "code",
   "execution_count": 21,
   "metadata": {},
   "outputs": [],
   "source": [
    "rm $PIPESTAT_RESULTS_FILE"
   ]
  }
 ],
 "metadata": {
  "kernelspec": {
   "display_name": "Bash",
   "language": "bash",
   "name": "bash"
  },
  "language_info": {
   "codemirror_mode": "shell",
   "file_extension": ".sh",
   "mimetype": "text/x-sh",
   "name": "bash"
  }
 },
 "nbformat": 4,
 "nbformat_minor": 2
}
