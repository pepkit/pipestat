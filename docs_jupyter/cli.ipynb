{
 "cells": [
  {
   "cell_type": "markdown",
   "metadata": {},
   "source": [
    "# Pipestat CLI\n",
    "\n",
    "**Before following this tutorial please make sure you're familiar with more information-rich \"Pipestat Python API\" tutorial.**"
   ]
  },
  {
   "cell_type": "markdown",
   "metadata": {},
   "source": [
    "## Prepare environment\n",
    "\n",
    "Pipestat command line interface can use multiple environment variables to avoid copious repetition of arguments in subsequent `pipestat` calls. \n",
    "\n",
    "Please refer to the [documentation](http://pipestat.databio.org/en/latest/env_vars/) for the full list of supported environment variables. We will set a few for this tutorial:"
   ]
  },
  {
   "cell_type": "code",
   "execution_count": 1,
   "metadata": {},
   "outputs": [],
   "source": [
    "export PIPESTAT_RESULTS_SCHEMA=../tests/data/sample_output_schema.yaml\n",
    "export PIPESTAT_RECORD_ID=sample1\n",
    "export PIPESTAT_RESULTS_FILE=`mktemp` # temporary file for results storage\n",
    "export PIPESTAT_NAMESPACE=test"
   ]
  },
  {
   "cell_type": "markdown",
   "metadata": {},
   "source": [
    "\n",
    "## Usage reference\n",
    "\n",
    "To learn about the usage `pipestat` usage use `--help`/`-h` option on any level. If the environment variables are set, the `pipestat` command help will reflect that:"
   ]
  },
  {
   "cell_type": "code",
   "execution_count": 2,
   "metadata": {},
   "outputs": [
    {
     "name": "stdout",
     "output_type": "stream",
     "text": [
      "version: 0.0.1\n",
      "usage: pipestat [-h] [--version] [--silent] [--verbosity V] [--logdev]\n",
      "                {report,inspect,remove,retrieve} ...\n",
      "\n",
      "pipestat - report pipeline results\n",
      "\n",
      "positional arguments:\n",
      "  {report,inspect,remove,retrieve}\n",
      "    report              Report a result.\n",
      "    inspect             Inspect a database.\n",
      "    remove              Remove a result.\n",
      "    retrieve            Retrieve a result.\n",
      "\n",
      "optional arguments:\n",
      "  -h, --help            show this help message and exit\n",
      "  --version             show program's version number and exit\n",
      "  --silent              Silence logging. Overrides verbosity.\n",
      "  --verbosity V         Set logging level (1-5 or logging module level name)\n",
      "  --logdev              Expand content of logging message format.\n",
      "\n",
      "Pipestat standardizes reporting of pipeline results and pipeline status\n",
      "management. It formalizes a way for pipeline developers and downstream tools\n",
      "developers to communicate -- results produced by a pipeline can easily and\n",
      "reliably become an input for downstream analyses. The object exposes API for\n",
      "interacting with the results and pipeline status and can be backed by either a\n",
      "YAML-formatted file or a PostgreSQL database.\n"
     ]
    }
   ],
   "source": [
    "pipestat -h"
   ]
  },
  {
   "cell_type": "code",
   "execution_count": 3,
   "metadata": {},
   "outputs": [
    {
     "name": "stdout",
     "output_type": "stream",
     "text": [
      "usage: pipestat report [-h] [-n N] [-f F] [-c C] [-a] [-s S] [--status-schema ST]\n",
      "                       [--flag-dir FD] -i I [-r R] -v V [-o] [-t]\n",
      "\n",
      "Report a result.\n",
      "\n",
      "optional arguments:\n",
      "  -h, --help                   show this help message and exit\n",
      "  -n N, --namespace N          Name of the pipeline to report result for. If not provided\n",
      "                               'PIPESTAT_NAMESPACE' env var will be used. Currently set\n",
      "                               to: test\n",
      "  -f F, --results-file F       Path to the YAML file where the results will be stored.\n",
      "                               This file will be used as pipestat backend and to restore\n",
      "                               the reported results across sessions\n",
      "  -c C, --config C             Path to the YAML configuration file. If not provided\n",
      "                               'PIPESTAT_CONFIG' env var will be used. Currently not set\n",
      "  -a, --database-only          Whether the reported data should not be stored in the\n",
      "                               memory, only in the database.\n",
      "  -s S, --schema S             Path to the schema that defines the results that can be\n",
      "                               reported. If not provided 'PIPESTAT_RESULTS_SCHEMA' env var\n",
      "                               will be used. Currently set to:\n",
      "                               ../tests/data/sample_output_schema.yaml\n",
      "  --status-schema ST           Path to the status schema. Default will be used if not\n",
      "                               provided: /Library/Frameworks/Python.framework/Versions/3.6\n",
      "                               /lib/python3.6/site-\n",
      "                               packages/pipestat/schemas/status_schema.yaml\n",
      "  --flag-dir FD                Path to the flag directory in case YAML file is the\n",
      "                               pipestat backend.\n",
      "  -i I, --result-identifier I  ID of the result to report; needs to be defined in the\n",
      "                               schema\n",
      "  -r R, --record-identifier R  ID of the record to report the result for. If not provided\n",
      "                               'PIPESTAT_RESULTS_SCHEMA' env var will be used. Currently\n",
      "                               set to: ../tests/data/sample_output_schema.yaml\n",
      "  -v V, --value V              Value of the result to report\n",
      "  -o, --overwrite              Whether the result should override existing ones in case of\n",
      "                               name clashes\n",
      "  -t, --try-convert            Whether to try to convert the reported value into reqiuired\n",
      "                               class in case it does not meet the schema requirements\n"
     ]
    }
   ],
   "source": [
    "pipestat report -h"
   ]
  },
  {
   "cell_type": "code",
   "execution_count": 4,
   "metadata": {},
   "outputs": [
    {
     "name": "stdout",
     "output_type": "stream",
     "text": [
      "usage: pipestat retrieve [-h] [-n N] [-f F] [-c C] [-a] [-s S] [--status-schema ST]\n",
      "                         [--flag-dir FD] -i I [-r R]\n",
      "\n",
      "Retrieve a result.\n",
      "\n",
      "optional arguments:\n",
      "  -h, --help                   show this help message and exit\n",
      "  -n N, --namespace N          Name of the pipeline to report result for. If not provided\n",
      "                               'PIPESTAT_NAMESPACE' env var will be used. Currently set\n",
      "                               to: test\n",
      "  -f F, --results-file F       Path to the YAML file where the results will be stored.\n",
      "                               This file will be used as pipestat backend and to restore\n",
      "                               the reported results across sessions\n",
      "  -c C, --config C             Path to the YAML configuration file. If not provided\n",
      "                               'PIPESTAT_CONFIG' env var will be used. Currently not set\n",
      "  -a, --database-only          Whether the reported data should not be stored in the\n",
      "                               memory, only in the database.\n",
      "  -s S, --schema S             Path to the schema that defines the results that can be\n",
      "                               reported. If not provided 'PIPESTAT_RESULTS_SCHEMA' env var\n",
      "                               will be used. Currently set to:\n",
      "                               ../tests/data/sample_output_schema.yaml\n",
      "  --status-schema ST           Path to the status schema. Default will be used if not\n",
      "                               provided: /Library/Frameworks/Python.framework/Versions/3.6\n",
      "                               /lib/python3.6/site-\n",
      "                               packages/pipestat/schemas/status_schema.yaml\n",
      "  --flag-dir FD                Path to the flag directory in case YAML file is the\n",
      "                               pipestat backend.\n",
      "  -i I, --result-identifier I  ID of the result to report; needs to be defined in the\n",
      "                               schema\n",
      "  -r R, --record-identifier R  ID of the record to report the result for. If not provided\n",
      "                               'PIPESTAT_RESULTS_SCHEMA' env var will be used. Currently\n",
      "                               set to: ../tests/data/sample_output_schema.yaml\n"
     ]
    }
   ],
   "source": [
    "pipestat retrieve -h"
   ]
  },
  {
   "cell_type": "code",
   "execution_count": 5,
   "metadata": {},
   "outputs": [
    {
     "name": "stdout",
     "output_type": "stream",
     "text": [
      "usage: pipestat remove [-h] [-n N] [-f F] [-c C] [-a] [-s S] [--status-schema ST]\n",
      "                       [--flag-dir FD] -i I [-r R]\n",
      "\n",
      "Remove a result.\n",
      "\n",
      "optional arguments:\n",
      "  -h, --help                   show this help message and exit\n",
      "  -n N, --namespace N          Name of the pipeline to report result for. If not provided\n",
      "                               'PIPESTAT_NAMESPACE' env var will be used. Currently set\n",
      "                               to: test\n",
      "  -f F, --results-file F       Path to the YAML file where the results will be stored.\n",
      "                               This file will be used as pipestat backend and to restore\n",
      "                               the reported results across sessions\n",
      "  -c C, --config C             Path to the YAML configuration file. If not provided\n",
      "                               'PIPESTAT_CONFIG' env var will be used. Currently not set\n",
      "  -a, --database-only          Whether the reported data should not be stored in the\n",
      "                               memory, only in the database.\n",
      "  -s S, --schema S             Path to the schema that defines the results that can be\n",
      "                               reported. If not provided 'PIPESTAT_RESULTS_SCHEMA' env var\n",
      "                               will be used. Currently set to:\n",
      "                               ../tests/data/sample_output_schema.yaml\n",
      "  --status-schema ST           Path to the status schema. Default will be used if not\n",
      "                               provided: /Library/Frameworks/Python.framework/Versions/3.6\n",
      "                               /lib/python3.6/site-\n",
      "                               packages/pipestat/schemas/status_schema.yaml\n",
      "  --flag-dir FD                Path to the flag directory in case YAML file is the\n",
      "                               pipestat backend.\n",
      "  -i I, --result-identifier I  ID of the result to report; needs to be defined in the\n",
      "                               schema\n",
      "  -r R, --record-identifier R  ID of the record to report the result for. If not provided\n",
      "                               'PIPESTAT_RESULTS_SCHEMA' env var will be used. Currently\n",
      "                               set to: ../tests/data/sample_output_schema.yaml\n"
     ]
    }
   ],
   "source": [
    "pipestat remove -h"
   ]
  },
  {
   "cell_type": "code",
   "execution_count": 6,
   "metadata": {},
   "outputs": [
    {
     "name": "stdout",
     "output_type": "stream",
     "text": [
      "usage: pipestat inspect [-h] [-n N] [-f F] [-c C] [-a] [-s S] [--status-schema ST]\n",
      "                        [--flag-dir FD] [-d]\n",
      "\n",
      "Inspect a database.\n",
      "\n",
      "optional arguments:\n",
      "  -h, --help              show this help message and exit\n",
      "  -n N, --namespace N     Name of the pipeline to report result for. If not provided\n",
      "                          'PIPESTAT_NAMESPACE' env var will be used. Currently set to:\n",
      "                          test\n",
      "  -f F, --results-file F  Path to the YAML file where the results will be stored. This\n",
      "                          file will be used as pipestat backend and to restore the\n",
      "                          reported results across sessions\n",
      "  -c C, --config C        Path to the YAML configuration file. If not provided\n",
      "                          'PIPESTAT_CONFIG' env var will be used. Currently not set\n",
      "  -a, --database-only     Whether the reported data should not be stored in the memory,\n",
      "                          only in the database.\n",
      "  -s S, --schema S        Path to the schema that defines the results that can be\n",
      "                          reported. If not provided 'PIPESTAT_RESULTS_SCHEMA' env var will\n",
      "                          be used. Currently set to:\n",
      "                          ../tests/data/sample_output_schema.yaml\n",
      "  --status-schema ST      Path to the status schema. Default will be used if not provided:\n",
      "                          /Library/Frameworks/Python.framework/Versions/3.6/lib/python3.6/\n",
      "                          site-packages/pipestat/schemas/status_schema.yaml\n",
      "  --flag-dir FD           Path to the flag directory in case YAML file is the pipestat\n",
      "                          backend.\n",
      "  -d, --data              Whether to display the data\n"
     ]
    }
   ],
   "source": [
    "pipestat inspect -h"
   ]
  },
  {
   "cell_type": "markdown",
   "metadata": {},
   "source": [
    "## Usage demonstration\n",
    "\n",
    "### Reporting\n",
    "\n",
    "Naturally, the command line interface provides access to all the Python API functionalities of `pipestat`. So, for example, to report a result and back the object by a file use:"
   ]
  },
  {
   "cell_type": "code",
   "execution_count": 7,
   "metadata": {},
   "outputs": [
    {
     "name": "stdout",
     "output_type": "stream",
     "text": [
      "Reported records for 'sample1' in 'test' namespace:\n",
      " - number_of_things: 100\n"
     ]
    }
   ],
   "source": [
    "pipestat report -i number_of_things -v 100 --try-convert"
   ]
  },
  {
   "cell_type": "markdown",
   "metadata": {},
   "source": [
    "The result has been reported and the database file has been updated:"
   ]
  },
  {
   "cell_type": "code",
   "execution_count": 8,
   "metadata": {},
   "outputs": [
    {
     "name": "stdout",
     "output_type": "stream",
     "text": [
      "test:\n",
      "  sample1:\n",
      "    number_of_things: 100\n"
     ]
    }
   ],
   "source": [
    "cat $PIPESTAT_RESULTS_FILE"
   ]
  },
  {
   "cell_type": "markdown",
   "metadata": {},
   "source": [
    "Let's report another result:"
   ]
  },
  {
   "cell_type": "code",
   "execution_count": 9,
   "metadata": {},
   "outputs": [
    {
     "name": "stdout",
     "output_type": "stream",
     "text": [
      "Reported records for 'sample1' in 'test' namespace:\n",
      " - percentage_of_things: 1.1\n"
     ]
    }
   ],
   "source": [
    "pipestat report -i percentage_of_things -v 1.1 --try-convert"
   ]
  },
  {
   "cell_type": "code",
   "execution_count": 10,
   "metadata": {},
   "outputs": [
    {
     "name": "stdout",
     "output_type": "stream",
     "text": [
      "test:\n",
      "  sample1:\n",
      "    number_of_things: 100\n",
      "    percentage_of_things: 1.1\n"
     ]
    }
   ],
   "source": [
    "cat $PIPESTAT_RESULTS_FILE"
   ]
  },
  {
   "cell_type": "markdown",
   "metadata": {},
   "source": [
    "### Inspection\n",
    "\n",
    "`pipestat inspect` command is a way to briefly look at the general `PipestatManager` state, like number of records, type of backend etc."
   ]
  },
  {
   "cell_type": "code",
   "execution_count": 11,
   "metadata": {},
   "outputs": [
    {
     "name": "stdout",
     "output_type": "stream",
     "text": [
      "\n",
      "\n",
      "PipestatManager (test)\n",
      "Backend: file (/var/folders/3f/0wj7rs2144l9zsgxd3jn5nxc0000gn/T/tmp.MNBJWbce)\n",
      "Schema source: /Users/mstolarczyk/code/pipestat/docs_jupyter/../tests/data/sample_output_schema.yaml\n",
      "Records count: 1\n"
     ]
    }
   ],
   "source": [
    "pipestat inspect"
   ]
  },
  {
   "cell_type": "markdown",
   "metadata": {},
   "source": [
    "In order to display the contents of the results file or database table associated with the indicated namespace, add `--data` flag:"
   ]
  },
  {
   "cell_type": "code",
   "execution_count": 12,
   "metadata": {},
   "outputs": [
    {
     "name": "stdout",
     "output_type": "stream",
     "text": [
      "\n",
      "\n",
      "PipestatManager (test)\n",
      "Backend: file (/var/folders/3f/0wj7rs2144l9zsgxd3jn5nxc0000gn/T/tmp.MNBJWbce)\n",
      "Schema source: /Users/mstolarczyk/code/pipestat/docs_jupyter/../tests/data/sample_output_schema.yaml\n",
      "Records count: 1\n",
      "\n",
      "Data:\n",
      "test:\n",
      "  sample1:\n",
      "    number_of_things: 100\n",
      "    percentage_of_things: 1.1\n"
     ]
    }
   ],
   "source": [
    "pipestat inspect --data"
   ]
  },
  {
   "cell_type": "markdown",
   "metadata": {},
   "source": [
    "### Retrieval\n",
    "\n",
    "Naturally, the reported results can be retrieved. Just call `pipestat retrieve` to do so:"
   ]
  },
  {
   "cell_type": "code",
   "execution_count": 13,
   "metadata": {},
   "outputs": [
    {
     "name": "stdout",
     "output_type": "stream",
     "text": [
      "1.1\n"
     ]
    }
   ],
   "source": [
    "pipestat retrieve -i percentage_of_things"
   ]
  },
  {
   "cell_type": "markdown",
   "metadata": {},
   "source": [
    "### Removal\n",
    "\n",
    "In order to remove a result call `pipestat remove`:"
   ]
  },
  {
   "cell_type": "code",
   "execution_count": 14,
   "metadata": {},
   "outputs": [
    {
     "name": "stdout",
     "output_type": "stream",
     "text": [
      "Removed result 'percentage_of_things' for record 'sample1' from 'test' namespace\n"
     ]
    }
   ],
   "source": [
    "pipestat remove -i percentage_of_things"
   ]
  },
  {
   "cell_type": "markdown",
   "metadata": {},
   "source": [
    "The results file and the state of the `PipestatManager` object reflect the removal:"
   ]
  },
  {
   "cell_type": "code",
   "execution_count": 15,
   "metadata": {},
   "outputs": [
    {
     "name": "stdout",
     "output_type": "stream",
     "text": [
      "test:\n",
      "  sample1:\n",
      "    number_of_things: 100\n"
     ]
    }
   ],
   "source": [
    "cat $PIPESTAT_RESULTS_FILE"
   ]
  },
  {
   "cell_type": "code",
   "execution_count": 16,
   "metadata": {},
   "outputs": [
    {
     "name": "stdout",
     "output_type": "stream",
     "text": [
      "\n",
      "\n",
      "PipestatManager (test)\n",
      "Backend: file (/var/folders/3f/0wj7rs2144l9zsgxd3jn5nxc0000gn/T/tmp.MNBJWbce)\n",
      "Schema source: /Users/mstolarczyk/code/pipestat/docs_jupyter/../tests/data/sample_output_schema.yaml\n",
      "Records count: 1\n",
      "\n",
      "Data:\n",
      "test:\n",
      "  sample1:\n",
      "    number_of_things: 100\n"
     ]
    }
   ],
   "source": [
    "pipestat inspect --data"
   ]
  },
  {
   "cell_type": "code",
   "execution_count": null,
   "metadata": {},
   "outputs": [],
   "source": [
    "rm $PIPESTAT_RESULTS_FILE"
   ]
  }
 ],
 "metadata": {
  "kernelspec": {
   "display_name": "Bash",
   "language": "bash",
   "name": "bash"
  },
  "language_info": {
   "codemirror_mode": "shell",
   "file_extension": ".sh",
   "mimetype": "text/x-sh",
   "name": "bash"
  }
 },
 "nbformat": 4,
 "nbformat_minor": 2
}
