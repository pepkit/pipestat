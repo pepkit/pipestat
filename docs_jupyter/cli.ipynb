{
 "cells": [
  {
   "cell_type": "markdown",
   "metadata": {},
   "source": [
    "# `pipestat` CLI\n",
    "\n",
    "Before following this tutorial please make sure you're familiar with \"`pipestat` Python API\" tutorial.\n",
    "\n",
    "## Usage reference\n",
    "\n",
    "To learn about the usage `pipestat` usage use `--help`/`-h` option on any level:"
   ]
  },
  {
   "cell_type": "code",
   "execution_count": 1,
   "metadata": {},
   "outputs": [
    {
     "name": "stdout",
     "output_type": "stream",
     "text": [
      "version: 0.0.1\n",
      "usage: pipestat [-h] [--version] [--silent] [--verbosity V] [--logdev]\n",
      "                {report,inspect,remove} ...\n",
      "\n",
      "pipestat - report pipeline results\n",
      "\n",
      "positional arguments:\n",
      "  {report,inspect,remove}\n",
      "    report              Report a result.\n",
      "    inspect             Inspect a database.\n",
      "    remove              Remove a result.\n",
      "\n",
      "optional arguments:\n",
      "  -h, --help            show this help message and exit\n",
      "  --version             show program's version number and exit\n",
      "  --silent              Silence logging. Overrides verbosity.\n",
      "  --verbosity V         Set logging level (1-5 or logging module level name)\n",
      "  --logdev              Expand content of logging message format.\n",
      "\n",
      "Pipestat provides methods for a standardized reporting of pipeline statistics.\n",
      "It formalizes a way for pipeline developers and downstream tools developers to\n",
      "communicate -- results produced by a pipeline can easily and reliably become\n",
      "an input for downstream analyses.\n"
     ]
    }
   ],
   "source": [
    "pipestat -h"
   ]
  },
  {
   "cell_type": "code",
   "execution_count": 2,
   "metadata": {},
   "outputs": [
    {
     "name": "stdout",
     "output_type": "stream",
     "text": [
      "usage: pipestat report [-h] -n N (-f F | -c C) -s S -i I -r R -v V [-o] [-t]\n",
      "\n",
      "Report a result.\n",
      "\n",
      "optional arguments:\n",
      "  -h, --help            show this help message and exit\n",
      "  -n N, --namespace N   Name of the pipeline to report result for\n",
      "  -f F, --results-file F\n",
      "                        Path to the YAML file where the results will be\n",
      "                        stored. This file will be used as pipestat backend and\n",
      "                        to restore the reported results across sesssions\n",
      "  -c C, --database-config C\n",
      "                        Path to the YAML file with PostgreSQL database\n",
      "                        configuration. Please refer to the documentation for\n",
      "                        the file format requirements.\n",
      "  -s S, --schema S      Path to the schema that defines the results that can\n",
      "                        be reported\n",
      "  -i I, --result-identifier I\n",
      "                        ID of the result to report; needs to be defined in the\n",
      "                        schema\n",
      "  -r R, --record-identifier R\n",
      "                        ID of the record to report the result for\n",
      "  -v V, --value V       Value of the result to report\n",
      "  -o, --overwrite       Whether the result should override existing ones in\n",
      "                        case of name clashes\n",
      "  -t, --try-convert     Whether to try to convert the reported value into\n",
      "                        reqiuired class in case it does not meet the schema\n",
      "                        requirements\n"
     ]
    }
   ],
   "source": [
    "pipestat report -h"
   ]
  },
  {
   "cell_type": "code",
   "execution_count": 3,
   "metadata": {},
   "outputs": [
    {
     "name": "stdout",
     "output_type": "stream",
     "text": [
      "usage: pipestat remove [-h] -n N (-f F | -c C) -s S -i I -r R\n",
      "\n",
      "Remove a result.\n",
      "\n",
      "optional arguments:\n",
      "  -h, --help            show this help message and exit\n",
      "  -n N, --namespace N   Name of the pipeline to report result for\n",
      "  -f F, --results-file F\n",
      "                        Path to the YAML file where the results will be\n",
      "                        stored. This file will be used as pipestat backend and\n",
      "                        to restore the reported results across sesssions\n",
      "  -c C, --database-config C\n",
      "                        Path to the YAML file with PostgreSQL database\n",
      "                        configuration. Please refer to the documentation for\n",
      "                        the file format requirements.\n",
      "  -s S, --schema S      Path to the schema that defines the results that can\n",
      "                        be reported\n",
      "  -i I, --result-identifier I\n",
      "                        ID of the result to report; needs to be defined in the\n",
      "                        schema\n",
      "  -r R, --record-identifier R\n",
      "                        ID of the record to report the result for\n"
     ]
    }
   ],
   "source": [
    "pipestat remove -h"
   ]
  },
  {
   "cell_type": "code",
   "execution_count": 4,
   "metadata": {},
   "outputs": [
    {
     "name": "stdout",
     "output_type": "stream",
     "text": [
      "usage: pipestat inspect [-h] -n N (-f F | -c C) -s S [-d]\n",
      "\n",
      "Inspect a database.\n",
      "\n",
      "optional arguments:\n",
      "  -h, --help            show this help message and exit\n",
      "  -n N, --namespace N   Name of the pipeline to report result for\n",
      "  -f F, --results-file F\n",
      "                        Path to the YAML file where the results will be\n",
      "                        stored. This file will be used as pipestat backend and\n",
      "                        to restore the reported results across sesssions\n",
      "  -c C, --database-config C\n",
      "                        Path to the YAML file with PostgreSQL database\n",
      "                        configuration. Please refer to the documentation for\n",
      "                        the file format requirements.\n",
      "  -s S, --schema S      Path to the schema that defines the results that can\n",
      "                        be reported\n",
      "  -d, --data            Whether to display the data\n"
     ]
    }
   ],
   "source": [
    "pipestat inspect -h"
   ]
  },
  {
   "cell_type": "markdown",
   "metadata": {},
   "source": [
    "## Usage demonstration\n",
    "\n",
    "### Reporting\n",
    "\n",
    "Naturally, the command line interface provides access to all the Python API functionalities of `pipestat`. So, for example, to report a result and back the object by a file use:"
   ]
  },
  {
   "cell_type": "code",
   "execution_count": 14,
   "metadata": {},
   "outputs": [
    {
     "name": "stdout",
     "output_type": "stream",
     "text": [
      "Reading data from '/var/folders/3f/0wj7rs2144l9zsgxd3jn5nxc0000gn/T/tmp.ispNtLl9'\n",
      "Reported record for 'sample1': number_of_things=100 in 'test' namespace\n"
     ]
    }
   ],
   "source": [
    "temp_file=`mktemp`\n",
    "pipestat report -f $temp_file -n test -r sample1 -i number_of_things -v 100 -s ../tests/data/sample_output_schema.yaml --try-convert"
   ]
  },
  {
   "cell_type": "markdown",
   "metadata": {},
   "source": [
    "The result has been reported and the database file has been updated:"
   ]
  },
  {
   "cell_type": "code",
   "execution_count": 15,
   "metadata": {},
   "outputs": [
    {
     "name": "stdout",
     "output_type": "stream",
     "text": [
      "test:\n",
      "  sample1:\n",
      "    number_of_things: 100\n"
     ]
    }
   ],
   "source": [
    "cat $temp_file"
   ]
  },
  {
   "cell_type": "markdown",
   "metadata": {},
   "source": [
    "Let's report another result:"
   ]
  },
  {
   "cell_type": "code",
   "execution_count": 16,
   "metadata": {},
   "outputs": [
    {
     "name": "stdout",
     "output_type": "stream",
     "text": [
      "Reading data from '/var/folders/3f/0wj7rs2144l9zsgxd3jn5nxc0000gn/T/tmp.ispNtLl9'\n",
      "Reported record for 'sample1': percentage_of_things=1.1 in 'test' namespace\n"
     ]
    }
   ],
   "source": [
    "pipestat report -f $temp_file -n test -r sample1 -i percentage_of_things -v 1.1 -s ../tests/data/sample_output_schema.yaml --try-convert"
   ]
  },
  {
   "cell_type": "code",
   "execution_count": 17,
   "metadata": {},
   "outputs": [
    {
     "name": "stdout",
     "output_type": "stream",
     "text": [
      "test:\n",
      "  sample1:\n",
      "    number_of_things: 100\n",
      "    percentage_of_things: 1.1\n"
     ]
    }
   ],
   "source": [
    "cat $temp_file"
   ]
  },
  {
   "cell_type": "markdown",
   "metadata": {},
   "source": [
    "### Inspection"
   ]
  },
  {
   "cell_type": "code",
   "execution_count": 21,
   "metadata": {},
   "outputs": [
    {
     "name": "stdout",
     "output_type": "stream",
     "text": [
      "usage: pipestat inspect [-h] -n N (-f F | -c C) -s S [-d]\n",
      "pipestat inspect: error: one of the arguments -f/--results-file -c/--database-config is required\n"
     ]
    },
    {
     "ename": "",
     "evalue": "2",
     "output_type": "error",
     "traceback": []
    }
   ],
   "source": [
    "pipestat inspect -d $temp_file -n test -s ../tests/data/sample_output_schema.yaml -f $temp_file"
   ]
  },
  {
   "cell_type": "code",
   "execution_count": 20,
   "metadata": {},
   "outputs": [
    {
     "name": "stdout",
     "output_type": "stream",
     "text": [
      "usage: pipestat inspect [-h] -n N (-f F | -c C) -s S [-d]\n",
      "pipestat inspect: error: one of the arguments -f/--results-file -c/--database-config is required\n"
     ]
    },
    {
     "ename": "",
     "evalue": "2",
     "output_type": "error",
     "traceback": []
    }
   ],
   "source": [
    "pipestat inspect -d $temp_file -n test -s ../tests/data/sample_output_schema.yaml -f $temp_file"
   ]
  },
  {
   "cell_type": "markdown",
   "metadata": {},
   "source": [
    "### Removal"
   ]
  },
  {
   "cell_type": "code",
   "execution_count": 10,
   "metadata": {},
   "outputs": [],
   "source": [
    "pipestat remove -d $temp_file -n test -i files_size"
   ]
  },
  {
   "cell_type": "code",
   "execution_count": 11,
   "metadata": {},
   "outputs": [
    {
     "name": "stdout",
     "output_type": "stream",
     "text": [
      "test:\n",
      "  files_count:\n",
      "    value: '100'\n",
      "    type: integer\n"
     ]
    }
   ],
   "source": [
    "cat $temp_file"
   ]
  },
  {
   "cell_type": "code",
   "execution_count": 12,
   "metadata": {},
   "outputs": [
    {
     "name": "stdout",
     "output_type": "stream",
     "text": [
      "PipeStatManager (test)\n",
      "Database length: 1\n",
      "Database: {'test': {'files_count': {'value': '100', 'type': 'integer'}}}\n",
      "Cache length: 0\n",
      "Cache: {}\n"
     ]
    }
   ],
   "source": [
    "pipestat inspect -d $temp_file -n test"
   ]
  },
  {
   "cell_type": "code",
   "execution_count": null,
   "metadata": {},
   "outputs": [],
   "source": []
  }
 ],
 "metadata": {
  "kernelspec": {
   "display_name": "Bash",
   "language": "bash",
   "name": "bash"
  },
  "language_info": {
   "codemirror_mode": "shell",
   "file_extension": ".sh",
   "mimetype": "text/x-sh",
   "name": "bash"
  }
 },
 "nbformat": 4,
 "nbformat_minor": 2
}
