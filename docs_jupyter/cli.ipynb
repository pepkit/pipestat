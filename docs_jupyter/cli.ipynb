{
 "cells": [
  {
   "cell_type": "markdown",
   "metadata": {},
   "source": [
    "# `pipestat` CLI\n",
    "\n",
    "Before following this tutorial please make sure you're familiar with \"`pipestat` Python API\" tutorial.\n",
    "\n",
    "## Usage reference\n",
    "\n",
    "To learn about the usage `pipestat` usage use `--help`/`-h` option on any level:"
   ]
  },
  {
   "cell_type": "code",
   "execution_count": 1,
   "metadata": {},
   "outputs": [
    {
     "name": "stdout",
     "output_type": "stream",
     "text": [
      "version: 0.0.1\n",
      "usage: pipestat [-h] [--version] [--silent] [--verbosity V] [--logdev]\n",
      "                {report,inspect,remove} ...\n",
      "\n",
      "pipestat - pipeline results reported\n",
      "\n",
      "positional arguments:\n",
      "  {report,inspect,remove}\n",
      "    report              Report a result.\n",
      "    inspect             Inspect a database.\n",
      "    remove              Remove a result.\n",
      "\n",
      "optional arguments:\n",
      "  -h, --help            show this help message and exit\n",
      "  --version             show program's version number and exit\n",
      "  --silent              Silence logging. Overrides verbosity.\n",
      "  --verbosity V         Set logging level (1-5 or logging module level name)\n",
      "  --logdev              Expand content of logging message format.\n",
      "\n",
      "...\n"
     ]
    }
   ],
   "source": [
    "pipestat -h"
   ]
  },
  {
   "cell_type": "code",
   "execution_count": 2,
   "metadata": {},
   "outputs": [
    {
     "name": "stdout",
     "output_type": "stream",
     "text": [
      "usage: pipestat report [-h] -d DB -n N -i ID -v V -t T [-o] [-s]\n",
      "\n",
      "Report a result.\n",
      "\n",
      "optional arguments:\n",
      "  -h, --help            show this help message and exit\n",
      "  -d DB, --database DB  database to store results in\n",
      "  -n N, --name N        name of the pipeline to report result for\n",
      "  -i ID, --id ID        id of the result to report\n",
      "  -v V, --value V       value of the result to report\n",
      "  -t T, --type T        type of the result to report\n",
      "  -o, --overwrite       whether the result should override existing ones in\n",
      "                        case of name clashes\n",
      "  -s, --strict-type     whether the result should be casted to the class\n",
      "                        required by the declared type and the effect of this\n",
      "                        operation verified\n"
     ]
    }
   ],
   "source": [
    "pipestat report -h"
   ]
  },
  {
   "cell_type": "code",
   "execution_count": 3,
   "metadata": {},
   "outputs": [
    {
     "name": "stdout",
     "output_type": "stream",
     "text": [
      "usage: pipestat remove [-h] -d DB -n N -i ID\n",
      "\n",
      "Remove a result.\n",
      "\n",
      "optional arguments:\n",
      "  -h, --help            show this help message and exit\n",
      "  -d DB, --database DB  database to store results in\n",
      "  -n N, --name N        name of the pipeline to report result for\n",
      "  -i ID, --id ID        id of the result to report\n"
     ]
    }
   ],
   "source": [
    "pipestat remove -h"
   ]
  },
  {
   "cell_type": "code",
   "execution_count": 4,
   "metadata": {},
   "outputs": [
    {
     "name": "stdout",
     "output_type": "stream",
     "text": [
      "usage: pipestat inspect [-h] -d DB -n N\n",
      "\n",
      "Inspect a database.\n",
      "\n",
      "optional arguments:\n",
      "  -h, --help            show this help message and exit\n",
      "  -d DB, --database DB  database to store results in\n",
      "  -n N, --name N        name of the pipeline to report result for\n"
     ]
    }
   ],
   "source": [
    "pipestat inspect -h"
   ]
  },
  {
   "cell_type": "markdown",
   "metadata": {},
   "source": [
    "## Usage demonstration\n",
    "\n",
    "### Reporting\n",
    "\n",
    "Naturally, the command line interface provides access to all the Python API functionalities of `pipestat`. So, for example, to report a result and back the object by a file use:"
   ]
  },
  {
   "cell_type": "code",
   "execution_count": 5,
   "metadata": {},
   "outputs": [
    {
     "name": "stdout",
     "output_type": "stream",
     "text": [
      "Cached new 'test' record: files_count=100(integer)\n",
      "Wrote 1 cached records: {'test': {'files_count': {'value': '100', 'type': 'integer'}}}\n"
     ]
    }
   ],
   "source": [
    "temp_file=`mktemp`\n",
    "pipestat report -d $temp_file -n test -i files_count -t integer -v 100"
   ]
  },
  {
   "cell_type": "markdown",
   "metadata": {},
   "source": [
    "The result has been reported and the database file has been updated:"
   ]
  },
  {
   "cell_type": "code",
   "execution_count": 6,
   "metadata": {},
   "outputs": [
    {
     "name": "stdout",
     "output_type": "stream",
     "text": [
      "test:\n",
      "  files_count:\n",
      "    value: '100'\n",
      "    type: integer\n"
     ]
    }
   ],
   "source": [
    "cat $temp_file"
   ]
  },
  {
   "cell_type": "markdown",
   "metadata": {},
   "source": [
    "Let's report another result:"
   ]
  },
  {
   "cell_type": "code",
   "execution_count": 7,
   "metadata": {},
   "outputs": [
    {
     "name": "stdout",
     "output_type": "stream",
     "text": [
      "Cached new 'test' record: files_size=11.1(float)\n",
      "Wrote 1 cached records: {'test': {'files_size': {'value': '11.1', 'type': 'float'}}}\n"
     ]
    }
   ],
   "source": [
    "pipestat report -d $temp_file -n test -i files_size -t float -v 11.1"
   ]
  },
  {
   "cell_type": "code",
   "execution_count": 8,
   "metadata": {},
   "outputs": [
    {
     "name": "stdout",
     "output_type": "stream",
     "text": [
      "test:\n",
      "  files_count:\n",
      "    value: '100'\n",
      "    type: integer\n",
      "  files_size:\n",
      "    value: '11.1'\n",
      "    type: float\n"
     ]
    }
   ],
   "source": [
    "cat $temp_file"
   ]
  },
  {
   "cell_type": "markdown",
   "metadata": {},
   "source": [
    "### Inspection"
   ]
  },
  {
   "cell_type": "code",
   "execution_count": 9,
   "metadata": {},
   "outputs": [
    {
     "name": "stdout",
     "output_type": "stream",
     "text": [
      "PipeStatManager (test)\n",
      "Database length: 2\n",
      "Database: {'test': {'files_count': {'value': '100', 'type': 'integer'}, 'files_size': {'value': '11.1', 'type': 'float'}}}\n",
      "Cache length: 0\n",
      "Cache: {}\n"
     ]
    }
   ],
   "source": [
    "pipestat inspect -d $temp_file -n test"
   ]
  },
  {
   "cell_type": "markdown",
   "metadata": {},
   "source": [
    "### Removal"
   ]
  },
  {
   "cell_type": "code",
   "execution_count": 10,
   "metadata": {},
   "outputs": [],
   "source": [
    "pipestat remove -d $temp_file -n test -i files_size"
   ]
  },
  {
   "cell_type": "code",
   "execution_count": 11,
   "metadata": {},
   "outputs": [
    {
     "name": "stdout",
     "output_type": "stream",
     "text": [
      "test:\n",
      "  files_count:\n",
      "    value: '100'\n",
      "    type: integer\n"
     ]
    }
   ],
   "source": [
    "cat $temp_file"
   ]
  },
  {
   "cell_type": "code",
   "execution_count": 12,
   "metadata": {},
   "outputs": [
    {
     "name": "stdout",
     "output_type": "stream",
     "text": [
      "PipeStatManager (test)\n",
      "Database length: 1\n",
      "Database: {'test': {'files_count': {'value': '100', 'type': 'integer'}}}\n",
      "Cache length: 0\n",
      "Cache: {}\n"
     ]
    }
   ],
   "source": [
    "pipestat inspect -d $temp_file -n test"
   ]
  },
  {
   "cell_type": "code",
   "execution_count": null,
   "metadata": {},
   "outputs": [],
   "source": []
  }
 ],
 "metadata": {
  "kernelspec": {
   "display_name": "Bash",
   "language": "bash",
   "name": "bash"
  },
  "language_info": {
   "codemirror_mode": "shell",
   "file_extension": ".sh",
   "mimetype": "text/x-sh",
   "name": "bash"
  }
 },
 "nbformat": 4,
 "nbformat_minor": 2
}
