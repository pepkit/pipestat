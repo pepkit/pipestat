{
 "cells": [
  {
   "cell_type": "markdown",
   "metadata": {},
   "source": [
    "# Pipestat CLI\n",
    "\n",
    "Before following this tutorial please make sure you're familiar with \"Pipestat Python API\" tutorial.\n",
    "\n",
    "## Usage reference\n",
    "\n",
    "To learn about the usage `pipestat` usage use `--help`/`-h` option on any level:"
   ]
  },
  {
   "cell_type": "code",
   "execution_count": 1,
   "metadata": {},
   "outputs": [
    {
     "name": "stdout",
     "output_type": "stream",
     "text": [
      "version: 0.0.1\n",
      "usage: pipestat [-h] [--version] [--silent] [--verbosity V] [--logdev]\n",
      "                {report,inspect,remove,retrieve} ...\n",
      "\n",
      "pipestat - report pipeline results\n",
      "\n",
      "positional arguments:\n",
      "  {report,inspect,remove,retrieve}\n",
      "    report              Report a result.\n",
      "    inspect             Inspect a database.\n",
      "    remove              Remove a result.\n",
      "    retrieve            Retrieve a result.\n",
      "\n",
      "optional arguments:\n",
      "  -h, --help            show this help message and exit\n",
      "  --version             show program's version number and exit\n",
      "  --silent              Silence logging. Overrides verbosity.\n",
      "  --verbosity V         Set logging level (1-5 or logging module level name)\n",
      "  --logdev              Expand content of logging message format.\n",
      "\n",
      "pipestat standardizes reporting of pipeline results. It formalizes a way for\n",
      "pipeline developers and downstream tools developers to communicate -- results\n",
      "produced by a pipeline can easily and reliably become an input for downstream\n",
      "analyses. The ovject exposes API for interacting with the results can be\n",
      "backed by either a YAML-formatted file or a PostgreSQL database.\n"
     ]
    }
   ],
   "source": [
    "pipestat -h"
   ]
  },
  {
   "cell_type": "code",
   "execution_count": 2,
   "metadata": {},
   "outputs": [
    {
     "name": "stdout",
     "output_type": "stream",
     "text": [
      "usage: pipestat report [-h] -n N (-f F | -c C) -s S -i I -r R -v V [-o] [-t]\n",
      "\n",
      "Report a result.\n",
      "\n",
      "optional arguments:\n",
      "  -h, --help            show this help message and exit\n",
      "  -n N, --namespace N   Name of the pipeline to report result for\n",
      "  -f F, --results-file F\n",
      "                        Path to the YAML file where the results will be\n",
      "                        stored. This file will be used as pipestat backend and\n",
      "                        to restore the reported results across sesssions\n",
      "  -c C, --database-config C\n",
      "                        Path to the YAML file with PostgreSQL database\n",
      "                        configuration. Please refer to the documentation for\n",
      "                        the file format requirements.\n",
      "  -s S, --schema S      Path to the schema that defines the results that can\n",
      "                        be eported\n",
      "  -i I, --result-identifier I\n",
      "                        ID of the result to report; needs to be defined in the\n",
      "                        schema\n",
      "  -r R, --record-identifier R\n",
      "                        ID of the record to report the result for\n",
      "  -v V, --value V       Value of the result to report\n",
      "  -o, --overwrite       Whether the result should override existing ones in\n",
      "                        case of name clashes\n",
      "  -t, --try-convert     Whether to try to convert the reported value into\n",
      "                        reqiuired class in case it does not meet the schema\n",
      "                        requirements\n"
     ]
    }
   ],
   "source": [
    "pipestat report -h"
   ]
  },
  {
   "cell_type": "code",
   "execution_count": 3,
   "metadata": {},
   "outputs": [
    {
     "name": "stdout",
     "output_type": "stream",
     "text": [
      "usage: pipestat retrieve [-h] -n N (-f F | -c C) [-s S] -i I -r R\n",
      "\n",
      "Retrieve a result.\n",
      "\n",
      "optional arguments:\n",
      "  -h, --help            show this help message and exit\n",
      "  -n N, --namespace N   Name of the pipeline to report result for\n",
      "  -f F, --results-file F\n",
      "                        Path to the YAML file where the results will be\n",
      "                        stored. This file will be used as pipestat backend and\n",
      "                        to restore the reported results across sesssions\n",
      "  -c C, --database-config C\n",
      "                        Path to the YAML file with PostgreSQL database\n",
      "                        configuration. Please refer to the documentation for\n",
      "                        the file format requirements.\n",
      "  -s S, --schema S      Path to the schema that defines the results that can\n",
      "                        be eported\n",
      "  -i I, --result-identifier I\n",
      "                        ID of the result to report; needs to be defined in the\n",
      "                        schema\n",
      "  -r R, --record-identifier R\n",
      "                        ID of the record to report the result for\n"
     ]
    }
   ],
   "source": [
    "pipestat retrieve -h"
   ]
  },
  {
   "cell_type": "code",
   "execution_count": 4,
   "metadata": {},
   "outputs": [
    {
     "name": "stdout",
     "output_type": "stream",
     "text": [
      "usage: pipestat remove [-h] -n N (-f F | -c C) [-s S] -i I -r R\n",
      "\n",
      "Remove a result.\n",
      "\n",
      "optional arguments:\n",
      "  -h, --help            show this help message and exit\n",
      "  -n N, --namespace N   Name of the pipeline to report result for\n",
      "  -f F, --results-file F\n",
      "                        Path to the YAML file where the results will be\n",
      "                        stored. This file will be used as pipestat backend and\n",
      "                        to restore the reported results across sesssions\n",
      "  -c C, --database-config C\n",
      "                        Path to the YAML file with PostgreSQL database\n",
      "                        configuration. Please refer to the documentation for\n",
      "                        the file format requirements.\n",
      "  -s S, --schema S      Path to the schema that defines the results that can\n",
      "                        be eported\n",
      "  -i I, --result-identifier I\n",
      "                        ID of the result to report; needs to be defined in the\n",
      "                        schema\n",
      "  -r R, --record-identifier R\n",
      "                        ID of the record to report the result for\n"
     ]
    }
   ],
   "source": [
    "pipestat remove -h"
   ]
  },
  {
   "cell_type": "code",
   "execution_count": 5,
   "metadata": {},
   "outputs": [
    {
     "name": "stdout",
     "output_type": "stream",
     "text": [
      "usage: pipestat inspect [-h] -n N (-f F | -c C) [-s S] [-d]\n",
      "\n",
      "Inspect a database.\n",
      "\n",
      "optional arguments:\n",
      "  -h, --help            show this help message and exit\n",
      "  -n N, --namespace N   Name of the pipeline to report result for\n",
      "  -f F, --results-file F\n",
      "                        Path to the YAML file where the results will be\n",
      "                        stored. This file will be used as pipestat backend and\n",
      "                        to restore the reported results across sesssions\n",
      "  -c C, --database-config C\n",
      "                        Path to the YAML file with PostgreSQL database\n",
      "                        configuration. Please refer to the documentation for\n",
      "                        the file format requirements.\n",
      "  -s S, --schema S      Path to the schema that defines the results that can\n",
      "                        be eported\n",
      "  -d, --data            Whether to display the data\n"
     ]
    }
   ],
   "source": [
    "pipestat inspect -h"
   ]
  },
  {
   "cell_type": "markdown",
   "metadata": {},
   "source": [
    "## Usage demonstration\n",
    "\n",
    "### Reporting\n",
    "\n",
    "Naturally, the command line interface provides access to all the Python API functionalities of `pipestat`. So, for example, to report a result and back the object by a file use:"
   ]
  },
  {
   "cell_type": "code",
   "execution_count": 6,
   "metadata": {},
   "outputs": [
    {
     "name": "stdout",
     "output_type": "stream",
     "text": [
      "Reading data from '/var/folders/3f/0wj7rs2144l9zsgxd3jn5nxc0000gn/T/tmp.ZOsOrOLx'\n",
      "Reported records for 'sample1' in 'test' namespace:\n",
      " - number_of_things: 100\n"
     ]
    }
   ],
   "source": [
    "temp_file=`mktemp`\n",
    "pipestat report -f $temp_file -n test -r sample1 -i number_of_things -v 100 -s ../tests/data/sample_output_schema.yaml --try-convert"
   ]
  },
  {
   "cell_type": "markdown",
   "metadata": {},
   "source": [
    "The result has been reported and the database file has been updated:"
   ]
  },
  {
   "cell_type": "code",
   "execution_count": 7,
   "metadata": {},
   "outputs": [
    {
     "name": "stdout",
     "output_type": "stream",
     "text": [
      "test:\n",
      "  sample1:\n",
      "    number_of_things: 100\n"
     ]
    }
   ],
   "source": [
    "cat $temp_file"
   ]
  },
  {
   "cell_type": "markdown",
   "metadata": {},
   "source": [
    "Let's report another result:"
   ]
  },
  {
   "cell_type": "code",
   "execution_count": 8,
   "metadata": {},
   "outputs": [
    {
     "name": "stdout",
     "output_type": "stream",
     "text": [
      "Reading data from '/var/folders/3f/0wj7rs2144l9zsgxd3jn5nxc0000gn/T/tmp.ZOsOrOLx'\n",
      "Reported records for 'sample1' in 'test' namespace:\n",
      " - percentage_of_things: 1.1\n"
     ]
    }
   ],
   "source": [
    "pipestat report -f $temp_file -n test -r sample1 -i percentage_of_things -v 1.1 -s ../tests/data/sample_output_schema.yaml --try-convert"
   ]
  },
  {
   "cell_type": "code",
   "execution_count": 9,
   "metadata": {},
   "outputs": [
    {
     "name": "stdout",
     "output_type": "stream",
     "text": [
      "test:\n",
      "  sample1:\n",
      "    number_of_things: 100\n",
      "    percentage_of_things: 1.1\n"
     ]
    }
   ],
   "source": [
    "cat $temp_file"
   ]
  },
  {
   "cell_type": "markdown",
   "metadata": {},
   "source": [
    "### Inspection\n",
    "\n",
    "`pipestat inspect` command is a way to briefly look at the general `PipestatManager` state, like number of records, type of backend etc."
   ]
  },
  {
   "cell_type": "code",
   "execution_count": 10,
   "metadata": {},
   "outputs": [
    {
     "name": "stdout",
     "output_type": "stream",
     "text": [
      "Reading data from '/var/folders/3f/0wj7rs2144l9zsgxd3jn5nxc0000gn/T/tmp.ZOsOrOLx'\n",
      "\n",
      "\n",
      "PipestatManager (test)\n",
      "Backend: file (/var/folders/3f/0wj7rs2144l9zsgxd3jn5nxc0000gn/T/tmp.ZOsOrOLx)\n",
      "Records count: 1\n"
     ]
    }
   ],
   "source": [
    "pipestat inspect -f $temp_file -n test"
   ]
  },
  {
   "cell_type": "markdown",
   "metadata": {},
   "source": [
    "In order to display the contents of the results file or database table associated with the indicated namespace, add `--data` flag:"
   ]
  },
  {
   "cell_type": "code",
   "execution_count": 11,
   "metadata": {},
   "outputs": [
    {
     "name": "stdout",
     "output_type": "stream",
     "text": [
      "Reading data from '/var/folders/3f/0wj7rs2144l9zsgxd3jn5nxc0000gn/T/tmp.ZOsOrOLx'\n",
      "\n",
      "\n",
      "PipestatManager (test)\n",
      "Backend: file (/var/folders/3f/0wj7rs2144l9zsgxd3jn5nxc0000gn/T/tmp.ZOsOrOLx)\n",
      "Records count: 1\n",
      "\n",
      "Data:\n",
      "test:\n",
      "  sample1:\n",
      "    number_of_things: 100\n",
      "    percentage_of_things: 1.1\n"
     ]
    }
   ],
   "source": [
    "pipestat inspect --data -f $temp_file -n test"
   ]
  },
  {
   "cell_type": "markdown",
   "metadata": {},
   "source": [
    "### Retrieval\n",
    "\n",
    "Naturally, the reported results can be retrieved. Just call `pipestat retrieve` to do so:"
   ]
  },
  {
   "cell_type": "code",
   "execution_count": 12,
   "metadata": {},
   "outputs": [
    {
     "name": "stdout",
     "output_type": "stream",
     "text": [
      "Reading data from '/var/folders/3f/0wj7rs2144l9zsgxd3jn5nxc0000gn/T/tmp.ZOsOrOLx'\n",
      "1.1\n"
     ]
    }
   ],
   "source": [
    "pipestat retrieve -f $temp_file -n test -r sample1 -i percentage_of_things"
   ]
  },
  {
   "cell_type": "markdown",
   "metadata": {},
   "source": [
    "### Removal\n",
    "\n",
    "In order to remove a result call `pipestat remove`:"
   ]
  },
  {
   "cell_type": "code",
   "execution_count": 13,
   "metadata": {},
   "outputs": [
    {
     "name": "stdout",
     "output_type": "stream",
     "text": [
      "Reading data from '/var/folders/3f/0wj7rs2144l9zsgxd3jn5nxc0000gn/T/tmp.ZOsOrOLx'\n",
      "Removed result 'percentage_of_things' for record 'sample1' from 'test' namespace\n"
     ]
    }
   ],
   "source": [
    "pipestat remove -f $temp_file -n test -r sample1 -i percentage_of_things"
   ]
  },
  {
   "cell_type": "markdown",
   "metadata": {},
   "source": [
    "The results file and the state of the `PipestatManager` object reflect the removal:"
   ]
  },
  {
   "cell_type": "code",
   "execution_count": 14,
   "metadata": {},
   "outputs": [
    {
     "name": "stdout",
     "output_type": "stream",
     "text": [
      "test:\n",
      "  sample1:\n",
      "    number_of_things: 100\n"
     ]
    }
   ],
   "source": [
    "cat $temp_file"
   ]
  },
  {
   "cell_type": "code",
   "execution_count": 15,
   "metadata": {},
   "outputs": [
    {
     "name": "stdout",
     "output_type": "stream",
     "text": [
      "Reading data from '/var/folders/3f/0wj7rs2144l9zsgxd3jn5nxc0000gn/T/tmp.ZOsOrOLx'\n",
      "\n",
      "\n",
      "PipestatManager (test)\n",
      "Backend: file (/var/folders/3f/0wj7rs2144l9zsgxd3jn5nxc0000gn/T/tmp.ZOsOrOLx)\n",
      "Records count: 1\n",
      "\n",
      "Data:\n",
      "test:\n",
      "  sample1:\n",
      "    number_of_things: 100\n"
     ]
    }
   ],
   "source": [
    "pipestat inspect --data -f $temp_file -n test"
   ]
  }
 ],
 "metadata": {
  "kernelspec": {
   "display_name": "Bash",
   "language": "bash",
   "name": "bash"
  },
  "language_info": {
   "codemirror_mode": "shell",
   "file_extension": ".sh",
   "mimetype": "text/x-sh",
   "name": "bash"
  }
 },
 "nbformat": 4,
 "nbformat_minor": 2
}
