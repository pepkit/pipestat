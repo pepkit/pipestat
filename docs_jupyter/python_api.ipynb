{
 "cells": [
  {
   "cell_type": "markdown",
   "metadata": {},
   "source": [
    "# Pipestat Python API\n",
    "\n",
    "Pipestat is a [Python package](https://pypi.org/project/pipestat/) for a standardized reporting of pipeline statistics. It formalizes a way to communicate between pipelines and downstream tools that analyze their results so that pipeline results can easily become input for downstream analyses.\n",
    "\n",
    "This tutorial is targeted toward pipeline developers, and shows how to use pipestat to manage pipeline results. This tutorial assumes you're writing your pipeline in Python; if not, there's another tutorial that accomplishes the same thing for any pipeline using the command-line interface.\n",
    "\n",
    "## Introduction\n",
    "\n",
    "To make your Python pipeline pipestat-compatible, you first need to initialize pipestat with some important configuration setup:"
   ]
  },
  {
   "cell_type": "markdown",
   "metadata": {},
   "source": [
    "1. **pipestat schema**: a path to a JSON-schema file that defines results reported by this pipeline\n",
    "2. **namespace**: defines a unique group name for reported results, typically a pipeline name\n",
    "3. **record identifier**: a unique name for a particular *run* of the pipeline, typically corresponding to a sample name\n",
    "4. **backend**: where the results should be stored. either path to a YAML-formatted file or pipestat config with PostgreSQL database login credentials\n",
    "\n",
    "## Back-end types\n",
    "\n",
    "Two types of back-ends are currently supported:\n",
    "\n",
    "1. a **file** (pass a file path to the constructor)  \n",
    "The changes reported using the `report` method of `PipestatManger` will be securely written to the file. Currently only [YAML](https://yaml.org/) format is supported. \n",
    "\n",
    "2. a **PostgreSQL database** (pass a path to the pipestat config to the constructor)\n",
    "This option gives the user the possibility to use a fully fledged database to back `PipestatManager`. \n",
    "\n",
    "\n",
    "## Initializing a pipestat session\n",
    "\n",
    "Start by importing the `pipestat` package in Python."
   ]
  },
  {
   "cell_type": "code",
   "execution_count": 2,
   "metadata": {},
   "outputs": [
    {
     "output_type": "error",
     "ename": "ModuleNotFoundError",
     "evalue": "No module named 'pipestat'",
     "traceback": [
      "\u001b[0;31m---------------------------------------------------------------------------\u001b[0m",
      "\u001b[0;31mModuleNotFoundError\u001b[0m                       Traceback (most recent call last)",
      "\u001b[0;32m<ipython-input-2-9e4881cbd397>\u001b[0m in \u001b[0;36m<module>\u001b[0;34m\u001b[0m\n\u001b[0;32m----> 1\u001b[0;31m \u001b[0;32mimport\u001b[0m \u001b[0mpipestat\u001b[0m\u001b[0;34m\u001b[0m\u001b[0;34m\u001b[0m\u001b[0m\n\u001b[0m\u001b[1;32m      2\u001b[0m \u001b[0;32mfrom\u001b[0m \u001b[0mjsonschema\u001b[0m \u001b[0;32mimport\u001b[0m \u001b[0mValidationError\u001b[0m\u001b[0;34m\u001b[0m\u001b[0;34m\u001b[0m\u001b[0m\n",
      "\u001b[0;31mModuleNotFoundError\u001b[0m: No module named 'pipestat'"
     ]
    }
   ],
   "source": [
    "import pipestat\n",
    "from jsonschema import ValidationError"
   ]
  },
  {
   "cell_type": "markdown",
   "metadata": {},
   "source": [
    "After importing the package, we need to create an `PipestatManager` object. The object constructor requires a few pieces of information. We'll use a file as the back-end, by passing a file path string to the constructor. Let's create a temporary file first:"
   ]
  },
  {
   "cell_type": "code",
   "execution_count": 2,
   "metadata": {},
   "outputs": [
    {
     "output_type": "stream",
     "name": "stdout",
     "text": [
      "/var/folders/h8/8npwnh2s4rb8lr6hsy2ydrsh0000gp/T/tmpp85qu9en.yaml\n"
     ]
    }
   ],
   "source": [
    "from tempfile import mkstemp\n",
    "\n",
    "_, temp_file = mkstemp(suffix=\".yaml\")\n",
    "print(temp_file)"
   ]
  },
  {
   "cell_type": "markdown",
   "metadata": {},
   "source": [
    "Now we can create a `PipestatManager` object that uses this file as the back-end:"
   ]
  },
  {
   "cell_type": "code",
   "execution_count": 3,
   "metadata": {},
   "outputs": [],
   "source": [
    "psm = pipestat.PipestatManager(\n",
    "    namespace=\"test\",\n",
    "    record_identifier=\"sample1\",\n",
    "    results_file_path=temp_file,\n",
    "    schema_path=\"../tests/data/sample_output_schema.yaml\",\n",
    ")"
   ]
  },
  {
   "cell_type": "markdown",
   "metadata": {},
   "source": [
    "You can also put these results into a config file and just pass that to the `config` argument, instead of speicfying each argument separately. The results will be reported to a \"test\" namespace."
   ]
  },
  {
   "cell_type": "code",
   "execution_count": 4,
   "metadata": {},
   "outputs": [
    {
     "output_type": "execute_result",
     "data": {
      "text/plain": [
       "'test'"
      ]
     },
     "metadata": {},
     "execution_count": 4
    }
   ],
   "source": [
    "psm.namespace"
   ]
  },
  {
   "cell_type": "markdown",
   "metadata": {},
   "source": [
    "By default, `PipestatManager` instance is bound to the record it was initialized with. However, reporting or removing results for a different record can be enforced in the respective methods with `record_identifier` argument."
   ]
  },
  {
   "cell_type": "code",
   "execution_count": 5,
   "metadata": {},
   "outputs": [
    {
     "output_type": "execute_result",
     "data": {
      "text/plain": [
       "'sample1'"
      ]
     },
     "metadata": {},
     "execution_count": 5
    }
   ],
   "source": [
    "psm.record_identifier"
   ]
  },
  {
   "cell_type": "markdown",
   "metadata": {},
   "source": [
    "Since we've used a newly created file, nothing has been reported yet:"
   ]
  },
  {
   "cell_type": "code",
   "execution_count": 6,
   "metadata": {},
   "outputs": [
    {
     "output_type": "execute_result",
     "data": {
      "text/plain": [
       "YacAttMap: {}"
      ]
     },
     "metadata": {},
     "execution_count": 6
    }
   ],
   "source": [
    "psm.data"
   ]
  },
  {
   "cell_type": "markdown",
   "metadata": {},
   "source": [
    "## Reporting results"
   ]
  },
  {
   "cell_type": "markdown",
   "metadata": {},
   "source": [
    "To report a result, use a `report` method. It requires three pieces of information:\n",
    "\n",
    "1. record identifier -- record to report the result for, for example a unique name of the sample (optional if provided at `PipestatManager` initialization stage)\n",
    "2. values -- a Python `dict` of resultID-value pairs to report. The top level keys need to correspond to the results identifiers defined in the schema\n",
    "\n",
    "### Available results defined in schemas\n",
    "\n",
    "To learn about the results that the current `PipestatManager` instance supports check out the `schema` property:"
   ]
  },
  {
   "cell_type": "code",
   "execution_count": 7,
   "metadata": {},
   "outputs": [
    {
     "output_type": "execute_result",
     "data": {
      "text/plain": [
       "{'number_of_things': {'type': 'integer', 'description': 'Number of things'},\n",
       " 'percentage_of_things': {'type': 'number',\n",
       "  'description': 'Percentage of things'},\n",
       " 'name_of_something': {'type': 'string', 'description': 'Name of something'},\n",
       " 'swtich_value': {'type': 'boolean', 'description': 'Is the switch on of off'},\n",
       " 'collection_of_things': {'type': 'array',\n",
       "  'description': 'This store collection of values'},\n",
       " 'output_object': {'type': 'object', 'description': 'Object output'},\n",
       " 'output_file': {'type': 'file',\n",
       "  'description': 'This a path to the output file'},\n",
       " 'output_image': {'type': 'image',\n",
       "  'description': 'This a path to the output image'},\n",
       " 'md5sum': {'type': 'string',\n",
       "  'description': 'MD5SUM of an object',\n",
       "  'highlight': True}}"
      ]
     },
     "metadata": {},
     "execution_count": 7
    }
   ],
   "source": [
    "psm.schema"
   ]
  },
  {
   "cell_type": "markdown",
   "metadata": {},
   "source": [
    "To learn about the actual required attributes of the reported results, like `file` or `image` (see: `output_file` and `output_image` results) select the `result_identifier` from the `result_schemas` property:"
   ]
  },
  {
   "cell_type": "code",
   "execution_count": 8,
   "metadata": {},
   "outputs": [
    {
     "output_type": "execute_result",
     "data": {
      "text/plain": [
       "{'type': 'object',\n",
       " 'description': 'This a path to the output file',\n",
       " 'properties': {'path': {'type': 'string'}, 'title': {'type': 'string'}},\n",
       " 'required': ['path', 'title']}"
      ]
     },
     "metadata": {},
     "execution_count": 8
    }
   ],
   "source": [
    "psm.result_schemas[\"output_file\"]"
   ]
  },
  {
   "cell_type": "markdown",
   "metadata": {},
   "source": [
    "### Results composition enforcement\n",
    "As you can see, to report a `output_file` result, you need to provide an object with `path` and `title` string attributes. If you fail to do so `PipestatManager` will issue an informative validation error:"
   ]
  },
  {
   "cell_type": "code",
   "execution_count": 9,
   "metadata": {},
   "outputs": [
    {
     "output_type": "stream",
     "name": "stdout",
     "text": [
      "'title' is a required property\n\nFailed validating 'required' in schema:\n    {'description': 'This a path to the output file',\n     'properties': {'path': {'type': 'string'},\n                    'title': {'type': 'string'}},\n     'required': ['path', 'title'],\n     'type': 'object'}\n\nOn instance:\n    {'path': '/home/user/path.csv'}\n"
     ]
    }
   ],
   "source": [
    "try:\n",
    "    psm.report(values={\"output_file\": {\"path\": \"/home/user/path.csv\"}})\n",
    "except ValidationError as e:\n",
    "    print(e)"
   ]
  },
  {
   "cell_type": "markdown",
   "metadata": {},
   "source": [
    "Let's report a correct object this time:"
   ]
  },
  {
   "cell_type": "code",
   "execution_count": 10,
   "metadata": {},
   "outputs": [
    {
     "output_type": "stream",
     "name": "stderr",
     "text": [
      "Reported records for 'sample1' in 'test' namespace:\n - output_file: {'path': '/home/user/path.csv', 'title': 'CSV file with some data'}\n"
     ]
    },
    {
     "output_type": "execute_result",
     "data": {
      "text/plain": [
       "True"
      ]
     },
     "metadata": {},
     "execution_count": 10
    }
   ],
   "source": [
    "psm.report(\n",
    "    values={\n",
    "        \"output_file\": {\n",
    "            \"path\": \"/home/user/path.csv\",\n",
    "            \"title\": \"CSV file with some data\",\n",
    "        }\n",
    "    }\n",
    ")"
   ]
  },
  {
   "cell_type": "markdown",
   "metadata": {},
   "source": [
    "Inspect the object's database to verify whether the result has been successfully reported:"
   ]
  },
  {
   "cell_type": "code",
   "execution_count": 11,
   "metadata": {},
   "outputs": [
    {
     "output_type": "execute_result",
     "data": {
      "text/plain": [
       "test:\n",
       "  sample1:\n",
       "    output_file:\n",
       "      path: /home/user/path.csv\n",
       "      title: CSV file with some data"
      ]
     },
     "metadata": {},
     "execution_count": 11
    }
   ],
   "source": [
    "psm.data"
   ]
  },
  {
   "cell_type": "markdown",
   "metadata": {},
   "source": [
    "No results duplication is allowed, unless you force overwrite:"
   ]
  },
  {
   "cell_type": "code",
   "execution_count": 12,
   "metadata": {},
   "outputs": [
    {
     "output_type": "stream",
     "name": "stderr",
     "text": [
      "These results exist for 'sample1': output_file\n"
     ]
    },
    {
     "output_type": "execute_result",
     "data": {
      "text/plain": [
       "False"
      ]
     },
     "metadata": {},
     "execution_count": 12
    }
   ],
   "source": [
    "psm.report(\n",
    "    values={\n",
    "        \"output_file\": {\n",
    "            \"path\": \"/home/user/path_new.csv\",\n",
    "            \"title\": \"new CSV file with some data\",\n",
    "        }\n",
    "    }\n",
    ")"
   ]
  },
  {
   "cell_type": "code",
   "execution_count": 13,
   "metadata": {},
   "outputs": [
    {
     "output_type": "stream",
     "name": "stderr",
     "text": [
      "These results exist for 'sample1': output_file\n",
      "Overwriting existing results: output_file\n",
      "Reported records for 'sample1' in 'test' namespace:\n",
      " - output_file: {'path': '/home/user/path_new.csv', 'title': 'new CSV file with some data'}\n"
     ]
    },
    {
     "output_type": "execute_result",
     "data": {
      "text/plain": [
       "test:\n",
       "  sample1:\n",
       "    output_file:\n",
       "      path: /home/user/path_new.csv\n",
       "      title: new CSV file with some data"
      ]
     },
     "metadata": {},
     "execution_count": 13
    }
   ],
   "source": [
    "psm.report(\n",
    "    values={\n",
    "        \"output_file\": {\n",
    "            \"path\": \"/home/user/path_new.csv\",\n",
    "            \"title\": \"new CSV file with some data\",\n",
    "        }\n",
    "    },\n",
    "    force_overwrite=True,\n",
    ")\n",
    "psm.data"
   ]
  },
  {
   "cell_type": "markdown",
   "metadata": {},
   "source": [
    "Most importantly, by backing the object by a file, the reported results persist -- another `PipestatManager` object reads the results when created:"
   ]
  },
  {
   "cell_type": "code",
   "execution_count": 14,
   "metadata": {},
   "outputs": [],
   "source": [
    "psm1 = pipestat.PipestatManager(\n",
    "    namespace=\"test\",\n",
    "    record_identifier=\"sample1\",\n",
    "    results_file_path=temp_file,\n",
    "    schema_path=\"../tests/data/sample_output_schema.yaml\",\n",
    ")"
   ]
  },
  {
   "cell_type": "code",
   "execution_count": 15,
   "metadata": {},
   "outputs": [
    {
     "output_type": "execute_result",
     "data": {
      "text/plain": [
       "test:\n",
       "  sample1:\n",
       "    output_file:\n",
       "      path: /home/user/path_new.csv\n",
       "      title: new CSV file with some data"
      ]
     },
     "metadata": {},
     "execution_count": 15
    }
   ],
   "source": [
    "psm.data"
   ]
  },
  {
   "cell_type": "markdown",
   "metadata": {},
   "source": [
    "That's because the contents are stored in the file we've specified at object creation stage:"
   ]
  },
  {
   "cell_type": "code",
   "execution_count": 16,
   "metadata": {},
   "outputs": [
    {
     "output_type": "stream",
     "name": "stdout",
     "text": [
      "/var/folders/h8/8npwnh2s4rb8lr6hsy2ydrsh0000gp/T/tmpp85qu9en.yaml\n",
      "test:\n",
      "  sample1:\n",
      "    output_file:\n",
      "      path: /home/user/path_new.csv\n",
      "      title: new CSV file with some data\n"
     ]
    }
   ],
   "source": [
    "!echo $temp_file\n",
    "!cat $temp_file"
   ]
  },
  {
   "cell_type": "markdown",
   "metadata": {},
   "source": [
    "Note that two processes can securely report to a single file and single namespace since `pipestat` supports locks and race-free writes to control multi-user conflicts and prevent data loss.\n",
    "\n",
    "### Results type enforcement\n",
    "\n",
    "By default `PipestatManager` raises an exception if a non-compatible result value is reported. \n",
    "\n",
    "This behavior can be changed by setting `stric_type` to `True` in `PipestatManager.report` method. In thi case `PipestatManager` tries to cast the reported results values to the Python classes required by schema. For example, if a result defined as `integer` is reported and a `str` value is passed, the eventual value will be `int`:"
   ]
  },
  {
   "cell_type": "code",
   "execution_count": 17,
   "metadata": {},
   "outputs": [
    {
     "output_type": "execute_result",
     "data": {
      "text/plain": [
       "{'type': 'integer', 'description': 'Number of things'}"
      ]
     },
     "metadata": {},
     "execution_count": 17
    }
   ],
   "source": [
    "psm.result_schemas[\"number_of_things\"]"
   ]
  },
  {
   "cell_type": "code",
   "execution_count": 18,
   "metadata": {},
   "outputs": [
    {
     "output_type": "stream",
     "name": "stderr",
     "text": [
      "Reported records for 'sample1' in 'test' namespace:\n - number_of_things: 10\n"
     ]
    },
    {
     "output_type": "execute_result",
     "data": {
      "text/plain": [
       "True"
      ]
     },
     "metadata": {},
     "execution_count": 18
    }
   ],
   "source": [
    "psm.report(values={\"number_of_things\": \"10\"}, strict_type=False)"
   ]
  },
  {
   "cell_type": "markdown",
   "metadata": {},
   "source": [
    "The method will attempt to cast the value to a proper Python class and store the converted object. In case of a failure, an error will be raised:"
   ]
  },
  {
   "cell_type": "code",
   "execution_count": 19,
   "metadata": {},
   "outputs": [
    {
     "output_type": "stream",
     "name": "stdout",
     "text": [
      "int() argument must be a string, a bytes-like object or a number, not 'list'\n"
     ]
    }
   ],
   "source": [
    "try:\n",
    "    psm.report(\n",
    "        record_identifier=\"sample2\", values={\"number_of_things\": []}, strict_type=False\n",
    "    )\n",
    "except TypeError as e:\n",
    "    print(e)"
   ]
  },
  {
   "cell_type": "markdown",
   "metadata": {},
   "source": [
    "Note that in this case we tried to report a result for a different record (`sample2`), which had to be enforced with `record_identifier` argument."
   ]
  },
  {
   "cell_type": "code",
   "execution_count": 20,
   "metadata": {},
   "outputs": [
    {
     "output_type": "execute_result",
     "data": {
      "text/plain": [
       "test:\n",
       "  sample1:\n",
       "    output_file:\n",
       "      path: /home/user/path_new.csv\n",
       "      title: new CSV file with some data\n",
       "    number_of_things: 10"
      ]
     },
     "metadata": {},
     "execution_count": 20
    }
   ],
   "source": [
    "psm.data"
   ]
  },
  {
   "cell_type": "markdown",
   "metadata": {},
   "source": [
    "## Retrieving results\n",
    "\n",
    "Naturally, the reported results can be retrieved. Let's explore all the options the `PipestatManager.retrieve` method provides:\n",
    "\n",
    "To retrieve a *specific* result for a record, provide the identifiers:"
   ]
  },
  {
   "cell_type": "code",
   "execution_count": 21,
   "metadata": {},
   "outputs": [
    {
     "output_type": "execute_result",
     "data": {
      "text/plain": [
       "'10'"
      ]
     },
     "metadata": {},
     "execution_count": 21
    }
   ],
   "source": [
    "psm.retrieve(record_identifier=\"sample1\", result_identifier=\"number_of_things\")"
   ]
  },
  {
   "cell_type": "markdown",
   "metadata": {},
   "source": [
    "To retrieve *all* the results for a record, skip the `result_identifier` argument:"
   ]
  },
  {
   "cell_type": "code",
   "execution_count": 22,
   "metadata": {},
   "outputs": [
    {
     "output_type": "execute_result",
     "data": {
      "text/plain": [
       "{'output_file': {'path': '/home/user/path_new.csv',\n",
       "  'title': 'new CSV file with some data'},\n",
       " 'number_of_things': '10'}"
      ]
     },
     "metadata": {},
     "execution_count": 22
    }
   ],
   "source": [
    "psm.retrieve(record_identifier=\"sample1\")"
   ]
  },
  {
   "cell_type": "markdown",
   "metadata": {},
   "source": [
    "## Removing results"
   ]
  },
  {
   "cell_type": "markdown",
   "metadata": {},
   "source": [
    "`PipestatManager` object also supports results removal. Call `remove` method and provide `record_identifier` and  `result_identifier` method to do so:"
   ]
  },
  {
   "cell_type": "code",
   "execution_count": 23,
   "metadata": {},
   "outputs": [
    {
     "output_type": "stream",
     "name": "stderr",
     "text": [
      "Removed result 'number_of_things' for record 'sample1' from 'test' namespace\n"
     ]
    },
    {
     "output_type": "execute_result",
     "data": {
      "text/plain": [
       "True"
      ]
     },
     "metadata": {},
     "execution_count": 23
    }
   ],
   "source": [
    "psm.remove(result_identifier=\"number_of_things\")"
   ]
  },
  {
   "cell_type": "markdown",
   "metadata": {},
   "source": [
    "The entire record, skip the `result_identifier` argument:"
   ]
  },
  {
   "cell_type": "code",
   "execution_count": 24,
   "metadata": {},
   "outputs": [
    {
     "output_type": "stream",
     "name": "stderr",
     "text": [
      "Removing 'sample1' record\n"
     ]
    },
    {
     "output_type": "execute_result",
     "data": {
      "text/plain": [
       "True"
      ]
     },
     "metadata": {},
     "execution_count": 24
    }
   ],
   "source": [
    "psm.remove()"
   ]
  },
  {
   "cell_type": "markdown",
   "metadata": {},
   "source": [
    "Verify that an appropriate entry from the results was deleted:"
   ]
  },
  {
   "cell_type": "code",
   "execution_count": 25,
   "metadata": {
    "pycharm": {
     "name": "#%%\n"
    }
   },
   "outputs": [
    {
     "output_type": "execute_result",
     "data": {
      "text/plain": [
       "test: OrderedDict()"
      ]
     },
     "metadata": {},
     "execution_count": 25
    }
   ],
   "source": [
    "psm.data"
   ]
  },
  {
   "cell_type": "markdown",
   "metadata": {},
   "source": [
    "## Highligting results\n",
    "\n",
    "In order to highlight results we need to add an extra property in the pipestat results schema (`highlight: true`) under the result identifier that we wish to highlight. "
   ]
  },
  {
   "cell_type": "code",
   "execution_count": 26,
   "metadata": {},
   "outputs": [
    {
     "output_type": "stream",
     "name": "stdout",
     "text": [
      "/var/folders/h8/8npwnh2s4rb8lr6hsy2ydrsh0000gp/T/tmpvhtrgs1m.yaml\n"
     ]
    }
   ],
   "source": [
    "from tempfile import mkstemp\n",
    "\n",
    "_, temp_file_highlight = mkstemp(suffix=\".yaml\")\n",
    "print(temp_file_highlight)\n",
    "\n",
    "psm_highlight = pipestat.PipestatManager(\n",
    "    namespace=\"test_highlight\",\n",
    "    record_identifier=\"sample1\",\n",
    "    results_file_path=temp_file_highlight,\n",
    "    schema_path=\"../tests/data/sample_output_schema_highlight.yaml\",\n",
    ")"
   ]
  },
  {
   "cell_type": "markdown",
   "metadata": {},
   "source": [
    "For example, result `log` is highlighted in this case:"
   ]
  },
  {
   "cell_type": "code",
   "execution_count": 27,
   "metadata": {},
   "outputs": [
    {
     "output_type": "execute_result",
     "data": {
      "text/plain": [
       "{'number_of_things': {'type': 'integer', 'description': 'Number of things'},\n",
       " 'percentage_of_things': {'type': 'number',\n",
       "  'description': 'Percentage of things'},\n",
       " 'name_of_something': {'type': 'string', 'description': 'Name of something'},\n",
       " 'swtich_value': {'type': 'boolean', 'description': 'Is the switch on of off'},\n",
       " 'collection_of_things': {'type': 'array',\n",
       "  'description': 'This store collection of values'},\n",
       " 'output_object': {'type': 'object', 'description': 'Object output'},\n",
       " 'output_file': {'type': 'file',\n",
       "  'description': 'This a path to the output file'},\n",
       " 'output_image': {'type': 'image',\n",
       "  'highlight': False,\n",
       "  'description': 'This a path to the output image'},\n",
       " 'log': {'type': 'file',\n",
       "  'highlight': True,\n",
       "  'description': 'The log file of the pipeline run'},\n",
       " 'profile': {'type': 'file',\n",
       "  'highlight': True,\n",
       "  'description': 'The profile of the pipeline run'},\n",
       " 'commands': {'type': 'file',\n",
       "  'highlight': True,\n",
       "  'description': 'The file with shell commands executed by this pipeline'},\n",
       " 'version': {'type': 'string',\n",
       "  'highlight': True,\n",
       "  'description': 'Pipeline version'}}"
      ]
     },
     "metadata": {},
     "execution_count": 27
    }
   ],
   "source": [
    "psm_highlight.schema"
   ]
  },
  {
   "cell_type": "markdown",
   "metadata": {},
   "source": [
    "The highlighting feature can be used by pipestat clients to present the highlighted results in a special way."
   ]
  },
  {
   "cell_type": "code",
   "execution_count": 28,
   "metadata": {},
   "outputs": [
    {
     "output_type": "execute_result",
     "data": {
      "text/plain": [
       "['log', 'profile', 'commands', 'version']"
      ]
     },
     "metadata": {},
     "execution_count": 28
    }
   ],
   "source": [
    "psm_highlight.highlighted_results"
   ]
  },
  {
   "cell_type": "markdown",
   "metadata": {},
   "source": [
    "## Pipeline status management\n",
    "\n",
    "Pipestat provides a pipeline status management system, which can be used to set and read pipeline status. To maintain the status information between sessions it uses flags or additional DB table if the `PipestatManager` object is backed with YAML file or PostgreSQL database, respectively.\n",
    "\n",
    "To set pipeline status use `set_status` method:"
   ]
  },
  {
   "cell_type": "code",
   "execution_count": 29,
   "metadata": {},
   "outputs": [],
   "source": [
    "psm.set_status(record_identifier=\"sample1\", status_identifier=\"running\")"
   ]
  },
  {
   "cell_type": "markdown",
   "metadata": {},
   "source": [
    "To get pipeline status use `get_status` method:"
   ]
  },
  {
   "cell_type": "code",
   "execution_count": 30,
   "metadata": {},
   "outputs": [
    {
     "output_type": "execute_result",
     "data": {
      "text/plain": [
       "'running'"
      ]
     },
     "metadata": {},
     "execution_count": 30
    }
   ],
   "source": [
    "psm.get_status(record_identifier=\"sample1\")"
   ]
  },
  {
   "cell_type": "markdown",
   "metadata": {},
   "source": [
    "Allowable statuses and related metadata are defined in the status schema, which can be accessed via `PipestatManager.status_schema` property."
   ]
  },
  {
   "cell_type": "code",
   "execution_count": 31,
   "metadata": {},
   "outputs": [
    {
     "output_type": "execute_result",
     "data": {
      "text/plain": [
       "{'running': {'description': 'the pipeline is running',\n",
       "  'color': [30, 144, 255]},\n",
       " 'completed': {'description': 'the pipeline has completed',\n",
       "  'color': [50, 205, 50]},\n",
       " 'failed': {'description': 'the pipeline has failed', 'color': [220, 20, 60]},\n",
       " 'waiting': {'description': 'the pipeline is waiting',\n",
       "  'color': [240, 230, 140]},\n",
       " 'partial': {'description': 'the pipeline stopped before completion point',\n",
       "  'color': [169, 169, 169]}}"
      ]
     },
     "metadata": {},
     "execution_count": 31
    }
   ],
   "source": [
    "psm.status_schema"
   ]
  },
  {
   "cell_type": "markdown",
   "metadata": {},
   "source": [
    "`pipestat` Python package ships with a default status schema, so we did not have to provide the schema when constructing the `PipestatManager` object. Similarly, the flags containg directory is an optional configuration option. \n",
    "\n",
    "Please refer to the Python API documentation (`__init__` method) to see how to use custom status schema and flags directory."
   ]
  },
  {
   "cell_type": "markdown",
   "metadata": {},
   "source": [
    "## Initializing `PipestatManager` without results schema\n",
    "\n",
    "Starting with `pipestat 0.0.3`, it is possible to initialize the `PipestatManager` object without specifying the results schema file. This feature comes in handy if `PipestatManager` is created with a sole intent to monitor pipeline status.\n",
    "\n",
    "Here's an example:"
   ]
  },
  {
   "cell_type": "code",
   "execution_count": 32,
   "metadata": {},
   "outputs": [
    {
     "output_type": "stream",
     "name": "stdout",
     "text": [
      "/var/folders/h8/8npwnh2s4rb8lr6hsy2ydrsh0000gp/T/tmp6vb3qxv1.yaml\n"
     ]
    }
   ],
   "source": [
    "_, temp_file_no_schema = mkstemp(suffix=\".yaml\")\n",
    "print(temp_file_no_schema)\n",
    "\n",
    "psm_no_schema = pipestat.PipestatManager(\n",
    "    namespace=\"test_no_schema\", results_file_path=temp_file_no_schema\n",
    ")"
   ]
  },
  {
   "cell_type": "markdown",
   "metadata": {},
   "source": [
    "As you can see, the object has been initialized successfully. Obviuosly, the schema has to be defined to report and retrieve results as the requirement to predefine results and therefore the possibility to rely on the schema to gather all the possible results metadata in the pipestat clients is a big advantage.\n",
    "\n",
    "Moreover, initialization with a database as a backend is impossible without schema due to the characteristics of relational databases, which must have columns predefined, when created."
   ]
  },
  {
   "cell_type": "code",
   "execution_count": 33,
   "metadata": {},
   "outputs": [
    {
     "output_type": "stream",
     "name": "stdout",
     "text": [
      "Results schema not found. The schema is required to report results. It needs to be supplied to the object constructor.or via 'PIPESTAT_RESULTS_SCHEMA' environment variable.\n"
     ]
    }
   ],
   "source": [
    "try:\n",
    "    psm_no_schema.report(record_identifier=\"sample1\", values={\"key\": \"val\"})\n",
    "except pipestat.SchemaNotFoundError as e:\n",
    "    print(e)"
   ]
  },
  {
   "cell_type": "markdown",
   "metadata": {},
   "source": [
    "As mentioned above, the pipeline status management capabilities are supported with no results schema defined:"
   ]
  },
  {
   "cell_type": "code",
   "execution_count": 34,
   "metadata": {},
   "outputs": [
    {
     "output_type": "execute_result",
     "data": {
      "text/plain": [
       "'running'"
      ]
     },
     "metadata": {},
     "execution_count": 34
    }
   ],
   "source": [
    "psm_no_schema.set_status(status_identifier=\"running\", record_identifier=\"sample1\")\n",
    "psm_no_schema.get_status(record_identifier=\"sample1\")"
   ]
  }
 ],
 "metadata": {
  "kernelspec": {
   "name": "python3",
   "display_name": "Python 3.8.2 64-bit"
  },
  "language_info": {
   "codemirror_mode": {
    "name": "ipython",
    "version": 3
   },
   "file_extension": ".py",
   "mimetype": "text/x-python",
   "name": "python",
   "nbconvert_exporter": "python",
   "pygments_lexer": "ipython3",
   "version": "3.8.2"
  },
  "interpreter": {
   "hash": "31f2aee4e71d21fbe5cf8b01ff0e069b9275f58929596ceb00d14d90e3e16cd6"
  }
 },
 "nbformat": 4,
 "nbformat_minor": 2
}
