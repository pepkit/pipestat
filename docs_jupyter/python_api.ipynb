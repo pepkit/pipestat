{
 "cells": [
  {
   "cell_type": "markdown",
   "metadata": {},
   "source": [
    "# `pipestat` python API\n",
    "\n",
    "`pipestat` is a [Python package](https://pypi.org/project/pipestat/) for a standardized reporting of pipeline statistics.\n",
    "\n",
    "It formalizes a way for pipeline developers and downstream tools developers to communicate -- results produced by a pipeline can easily and reliably become an input for downstream analyses.\n",
    "\n",
    "## Usage\n",
    "\n",
    "Here's how a pipeline developer can use `pipestat` to report results:"
   ]
  },
  {
   "cell_type": "code",
   "execution_count": 1,
   "metadata": {},
   "outputs": [],
   "source": [
    "import pipestat\n",
    "from jsonschema import ValidationError"
   ]
  },
  {
   "cell_type": "markdown",
   "metadata": {},
   "source": [
    "After importing the package, create an `PipeStatManager` object. The object constructor requires a few pieces of information: \n",
    "\n",
    "1. a namespace to write into, for example the name of the pipeline\n",
    "2. a path to the schema file that describes results that can be reported\n",
    "3. backend info: either path to a YAML-formatted file or pipestat config with PostgreSQL database login credentials\n",
    "\n",
    "## Back-end types\n",
    "\n",
    "Two types of back-ends are currently supported:\n",
    "\n",
    "1. a **file** (pass a file path to the constructor)  \n",
    "The changes reported using the `report` method of `PipestatManger` will be securely written to the file. Currently only [YAML](https://yaml.org/) format is supported. \n",
    "\n",
    "2. a **PostgreSQL database** (pass a path to the pipestat config to the constuctor)  \n",
    "This option gives the user the possibility to use a fully fledged database to back `PipestatManager`. \n",
    "\n",
    "To use a file as the back-end, just pass a file path string to the constructor. Let's create a temporary file first:"
   ]
  },
  {
   "cell_type": "code",
   "execution_count": 2,
   "metadata": {},
   "outputs": [
    {
     "name": "stdout",
     "output_type": "stream",
     "text": [
      "/var/folders/3f/0wj7rs2144l9zsgxd3jn5nxc0000gn/T/tmpafb7mnz2.yaml\n"
     ]
    }
   ],
   "source": [
    "from tempfile import mkstemp\n",
    "_, temp_file = mkstemp(suffix=\".yaml\")\n",
    "print(temp_file)"
   ]
  },
  {
   "cell_type": "markdown",
   "metadata": {},
   "source": [
    "Now we can create a `PipestatManager` object that uses this file as the back-end:"
   ]
  },
  {
   "cell_type": "code",
   "execution_count": 3,
   "metadata": {},
   "outputs": [
    {
     "name": "stderr",
     "output_type": "stream",
     "text": [
      "Reading data from '/var/folders/3f/0wj7rs2144l9zsgxd3jn5nxc0000gn/T/tmpafb7mnz2.yaml'\n"
     ]
    }
   ],
   "source": [
    "psm = pipestat.PipestatManager(name=\"test\", results_file=temp_file, schema_path=\"../tests/data/sample_output_schema.yaml\")"
   ]
  },
  {
   "cell_type": "markdown",
   "metadata": {},
   "source": [
    "The results will be reported to a \"test\" namespace."
   ]
  },
  {
   "cell_type": "code",
   "execution_count": 4,
   "metadata": {},
   "outputs": [
    {
     "data": {
      "text/plain": [
       "'test'"
      ]
     },
     "execution_count": 4,
     "metadata": {},
     "output_type": "execute_result"
    }
   ],
   "source": [
    "psm.name"
   ]
  },
  {
   "cell_type": "markdown",
   "metadata": {},
   "source": [
    "Since we've used a newly created file, nothing has been reported yet:"
   ]
  },
  {
   "cell_type": "code",
   "execution_count": 5,
   "metadata": {},
   "outputs": [
    {
     "data": {
      "text/plain": [
       "YacAttMap: {}"
      ]
     },
     "execution_count": 5,
     "metadata": {},
     "output_type": "execute_result"
    }
   ],
   "source": [
    "psm.data"
   ]
  },
  {
   "cell_type": "markdown",
   "metadata": {},
   "source": [
    "## Reporting basics"
   ]
  },
  {
   "cell_type": "markdown",
   "metadata": {},
   "source": [
    "To report a result, use a `report` method. It requires three pieces of information:\n",
    "1. `record_identifier` -- record to report the result for, for example a unique name of the sample\n",
    "2. `result_identifier` -- result to report. It needs to be predefined in the schema\n",
    "3. `value` -- value of the reported object\n",
    "\n",
    "### Available results defined in schemas\n",
    "\n",
    "To learn about the results that the current `PipestatManager` instance supports check out the `schema` property:"
   ]
  },
  {
   "cell_type": "code",
   "execution_count": 6,
   "metadata": {},
   "outputs": [
    {
     "data": {
      "text/plain": [
       "AttMap\n",
       "description: sample output for the test pipeline\n",
       "properties:\n",
       "  number_of_things:\n",
       "    type: integer\n",
       "    description: Number of things\n",
       "  percentage_of_things:\n",
       "    type: number\n",
       "    description: Percentage of things\n",
       "  name_of_something:\n",
       "    type: string\n",
       "    description: Name of something\n",
       "  swtich_value:\n",
       "    type: boolean\n",
       "    description: Is the switch on of off\n",
       "  collection_of_things:\n",
       "    type: array\n",
       "    description: This store collection of values\n",
       "  output_object:\n",
       "    type: object\n",
       "    description: Object output\n",
       "  output_file:\n",
       "    type: file\n",
       "    description: This a path to the output file\n",
       "  output_image:\n",
       "    type: image\n",
       "    description: This a path to the output image"
      ]
     },
     "execution_count": 6,
     "metadata": {},
     "output_type": "execute_result"
    }
   ],
   "source": [
    "psm.schema"
   ]
  },
  {
   "cell_type": "markdown",
   "metadata": {},
   "source": [
    "To learn about the actual required attributes of the reported results, like `file` or `image` (see: `output_file` and `output_image` results) select the `result_identifier` from the `result_schemas` property:"
   ]
  },
  {
   "cell_type": "code",
   "execution_count": 7,
   "metadata": {},
   "outputs": [
    {
     "data": {
      "text/plain": [
       "AttMap\n",
       "type: object\n",
       "description: This a path to the output file\n",
       "properties:\n",
       "  path:\n",
       "    type: string\n",
       "  title:\n",
       "    type: string\n",
       "required: \n",
       " - path\n",
       " - title"
      ]
     },
     "execution_count": 7,
     "metadata": {},
     "output_type": "execute_result"
    }
   ],
   "source": [
    "psm.result_schemas.output_file"
   ]
  },
  {
   "cell_type": "markdown",
   "metadata": {},
   "source": [
    "### Results composition enforcement\n",
    "As you can see, to report a `output_file` result, you need to provide an object with `path` and `title` string attributes. If you fail to do so `PipestatManager` will issue an informative validation error:"
   ]
  },
  {
   "cell_type": "code",
   "execution_count": 8,
   "metadata": {},
   "outputs": [
    {
     "name": "stdout",
     "output_type": "stream",
     "text": [
      "'title' is a required property\n",
      "\n",
      "Failed validating 'required' in schema:\n",
      "    {'description': 'This a path to the output file',\n",
      "     'properties': {'path': {'type': 'string'},\n",
      "                    'title': {'type': 'string'}},\n",
      "     'required': ['path', 'title'],\n",
      "     'type': 'object'}\n",
      "\n",
      "On instance:\n",
      "    {'path': '/home/user/path.csv'}\n"
     ]
    }
   ],
   "source": [
    "try: \n",
    "    psm.report(record_identifier=\"sample1\", result_identifier=\"output_file\", value={\"path\": \"/home/user/path.csv\"})\n",
    "except ValidationError as e:\n",
    "    print(e)"
   ]
  },
  {
   "cell_type": "markdown",
   "metadata": {},
   "source": [
    "Let's report a correct object this time:"
   ]
  },
  {
   "cell_type": "code",
   "execution_count": 9,
   "metadata": {},
   "outputs": [
    {
     "name": "stderr",
     "output_type": "stream",
     "text": [
      "Reported record for 'sample1': output_file={'path': '/home/user/path.csv', 'title': 'CSV file with some data'} in 'test' namespace\n"
     ]
    },
    {
     "data": {
      "text/plain": [
       "True"
      ]
     },
     "execution_count": 9,
     "metadata": {},
     "output_type": "execute_result"
    }
   ],
   "source": [
    "psm.report(record_identifier=\"sample1\", result_identifier=\"output_file\", value={\"path\": \"/home/user/path.csv\", \"title\": \"CSV file with some data\"})"
   ]
  },
  {
   "cell_type": "markdown",
   "metadata": {},
   "source": [
    "Inspect the object's database to verify whether the result has been successfully reported:"
   ]
  },
  {
   "cell_type": "code",
   "execution_count": 10,
   "metadata": {},
   "outputs": [
    {
     "data": {
      "text/plain": [
       "test:\n",
       "  sample1:\n",
       "    output_file:\n",
       "      path: /home/user/path.csv\n",
       "      title: CSV file with some data"
      ]
     },
     "execution_count": 10,
     "metadata": {},
     "output_type": "execute_result"
    }
   ],
   "source": [
    "psm.data"
   ]
  },
  {
   "cell_type": "markdown",
   "metadata": {},
   "source": [
    "No results duplication is allowed, unless you force overwrite:"
   ]
  },
  {
   "cell_type": "code",
   "execution_count": 11,
   "metadata": {},
   "outputs": [
    {
     "name": "stderr",
     "output_type": "stream",
     "text": [
      "'output_file' exists for 'sample1'\n"
     ]
    },
    {
     "data": {
      "text/plain": [
       "False"
      ]
     },
     "execution_count": 11,
     "metadata": {},
     "output_type": "execute_result"
    }
   ],
   "source": [
    "psm.report(record_identifier=\"sample1\", result_identifier=\"output_file\", value={\"path\": \"/home/user/path_new.csv\", \"title\": \"new CSV file with some data\"})"
   ]
  },
  {
   "cell_type": "code",
   "execution_count": 12,
   "metadata": {},
   "outputs": [
    {
     "name": "stderr",
     "output_type": "stream",
     "text": [
      "'output_file' exists for 'sample1'\n",
      "Reported record for 'sample1': output_file={'path': '/home/user/path_new.csv', 'title': 'new CSV file with some data'} in 'test' namespace\n"
     ]
    },
    {
     "data": {
      "text/plain": [
       "test:\n",
       "  sample1:\n",
       "    output_file:\n",
       "      path: /home/user/path_new.csv\n",
       "      title: new CSV file with some data"
      ]
     },
     "execution_count": 12,
     "metadata": {},
     "output_type": "execute_result"
    }
   ],
   "source": [
    "psm.report(record_identifier=\"sample1\", result_identifier=\"output_file\", value={\"path\": \"/home/user/path_new.csv\", \"title\": \"new CSV file with some data\"}, force_overwrite=True)\n",
    "psm.data"
   ]
  },
  {
   "cell_type": "markdown",
   "metadata": {},
   "source": [
    "Most importantly, by backing the object by a file, the reported results persist -- another `PipestatManager` object reads the results when created:"
   ]
  },
  {
   "cell_type": "code",
   "execution_count": 13,
   "metadata": {},
   "outputs": [
    {
     "name": "stderr",
     "output_type": "stream",
     "text": [
      "Reading data from '/var/folders/3f/0wj7rs2144l9zsgxd3jn5nxc0000gn/T/tmpafb7mnz2.yaml'\n"
     ]
    }
   ],
   "source": [
    "psm1 = pipestat.PipestatManager(name=\"test\", results_file=temp_file,  schema_path=\"../tests/data/sample_output_schema.yaml\")"
   ]
  },
  {
   "cell_type": "code",
   "execution_count": 14,
   "metadata": {},
   "outputs": [
    {
     "data": {
      "text/plain": [
       "test:\n",
       "  sample1:\n",
       "    output_file:\n",
       "      path: /home/user/path_new.csv\n",
       "      title: new CSV file with some data"
      ]
     },
     "execution_count": 14,
     "metadata": {},
     "output_type": "execute_result"
    }
   ],
   "source": [
    "psm.data"
   ]
  },
  {
   "cell_type": "markdown",
   "metadata": {},
   "source": [
    "That's because the contets are stored in the file we've specified at object creation stage:"
   ]
  },
  {
   "cell_type": "code",
   "execution_count": 15,
   "metadata": {},
   "outputs": [
    {
     "name": "stdout",
     "output_type": "stream",
     "text": [
      "/var/folders/3f/0wj7rs2144l9zsgxd3jn5nxc0000gn/T/tmpafb7mnz2.yaml\n",
      "test:\n",
      "  sample1:\n",
      "    output_file:\n",
      "      path: /home/user/path_new.csv\n",
      "      title: new CSV file with some data\n"
     ]
    }
   ],
   "source": [
    "!echo $temp_file\n",
    "!cat $temp_file"
   ]
  },
  {
   "cell_type": "markdown",
   "metadata": {},
   "source": [
    "Note that two processes can securely report to a single file and single namespace since `pipestat` supports locks and race-free writes to control multi-user conflicts and prevent data loss.\n",
    "\n",
    "### Results type enfocement\n",
    "\n",
    "By default `PipestatManager` raises an exception if a non-compatible result value is reported. \n",
    "\n",
    "This bahavior can be changed by setting `stric_type` to `True` in `PipestatManager.report` method. In thi case `PipestatManager` tries to cast the reported results values to the Python classes required by schema. For example, if a result defined as `integer` is reported and a `str` value is passed, the eventual value will be `int`:"
   ]
  },
  {
   "cell_type": "code",
   "execution_count": 16,
   "metadata": {},
   "outputs": [
    {
     "data": {
      "text/plain": [
       "AttMap\n",
       "type: integer\n",
       "description: Number of things"
      ]
     },
     "execution_count": 16,
     "metadata": {},
     "output_type": "execute_result"
    }
   ],
   "source": [
    "psm.result_schemas.number_of_things"
   ]
  },
  {
   "cell_type": "code",
   "execution_count": 17,
   "metadata": {},
   "outputs": [
    {
     "name": "stderr",
     "output_type": "stream",
     "text": [
      "Reported record for 'sample1': number_of_things=10 in 'test' namespace\n"
     ]
    },
    {
     "data": {
      "text/plain": [
       "True"
      ]
     },
     "execution_count": 17,
     "metadata": {},
     "output_type": "execute_result"
    }
   ],
   "source": [
    "psm.report(record_identifier=\"sample1\", result_identifier=\"number_of_things\", value=\"10\", strict_type=False)"
   ]
  },
  {
   "cell_type": "markdown",
   "metadata": {},
   "source": [
    "The method will attempt to cast the value to a proper Python class and store the converted object. In case of a failure, an error will be rasied:"
   ]
  },
  {
   "cell_type": "code",
   "execution_count": 18,
   "metadata": {},
   "outputs": [
    {
     "ename": "TypeError",
     "evalue": "int() argument must be a string, a bytes-like object or a number, not 'list'",
     "output_type": "error",
     "traceback": [
      "\u001b[0;31m---------------------------------------------------------------------------\u001b[0m",
      "\u001b[0;31mValidationError\u001b[0m                           Traceback (most recent call last)",
      "\u001b[0;32m/Library/Frameworks/Python.framework/Versions/3.6/lib/python3.6/site-packages/pipestat/helpers.py\u001b[0m in \u001b[0;36mvalidate_type\u001b[0;34m(value, schema, strict_type)\u001b[0m\n\u001b[1;32m    134\u001b[0m     \u001b[0;32mtry\u001b[0m\u001b[0;34m:\u001b[0m\u001b[0;34m\u001b[0m\u001b[0m\n\u001b[0;32m--> 135\u001b[0;31m         \u001b[0mjsonschema\u001b[0m\u001b[0;34m.\u001b[0m\u001b[0mvalidate\u001b[0m\u001b[0;34m(\u001b[0m\u001b[0mvalue\u001b[0m\u001b[0;34m,\u001b[0m \u001b[0mschema\u001b[0m\u001b[0;34m)\u001b[0m\u001b[0;34m\u001b[0m\u001b[0m\n\u001b[0m\u001b[1;32m    136\u001b[0m     \u001b[0;32mexcept\u001b[0m \u001b[0mjsonschema\u001b[0m\u001b[0;34m.\u001b[0m\u001b[0mexceptions\u001b[0m\u001b[0;34m.\u001b[0m\u001b[0mValidationError\u001b[0m \u001b[0;32mas\u001b[0m \u001b[0me\u001b[0m\u001b[0;34m:\u001b[0m\u001b[0;34m\u001b[0m\u001b[0m\n",
      "\u001b[0;32m~/Library/Python/3.6/lib/python/site-packages/jsonschema/validators.py\u001b[0m in \u001b[0;36mvalidate\u001b[0;34m(instance, schema, cls, *args, **kwargs)\u001b[0m\n\u001b[1;32m    898\u001b[0m     \u001b[0;32mif\u001b[0m \u001b[0merror\u001b[0m \u001b[0;32mis\u001b[0m \u001b[0;32mnot\u001b[0m \u001b[0;32mNone\u001b[0m\u001b[0;34m:\u001b[0m\u001b[0;34m\u001b[0m\u001b[0m\n\u001b[0;32m--> 899\u001b[0;31m         \u001b[0;32mraise\u001b[0m \u001b[0merror\u001b[0m\u001b[0;34m\u001b[0m\u001b[0m\n\u001b[0m\u001b[1;32m    900\u001b[0m \u001b[0;34m\u001b[0m\u001b[0m\n",
      "\u001b[0;31mValidationError\u001b[0m: [] is not of type 'integer'\n\nFailed validating 'type' in schema:\n    {'description': 'Number of things', 'type': 'integer'}\n\nOn instance:\n    []",
      "\nDuring handling of the above exception, another exception occurred:\n",
      "\u001b[0;31mTypeError\u001b[0m                                 Traceback (most recent call last)",
      "\u001b[0;32m<ipython-input-18-f0cfcdd2238c>\u001b[0m in \u001b[0;36m<module>\u001b[0;34m\u001b[0m\n\u001b[0;32m----> 1\u001b[0;31m \u001b[0mpsm\u001b[0m\u001b[0;34m.\u001b[0m\u001b[0mreport\u001b[0m\u001b[0;34m(\u001b[0m\u001b[0mrecord_identifier\u001b[0m\u001b[0;34m=\u001b[0m\u001b[0;34m\"sample2\"\u001b[0m\u001b[0;34m,\u001b[0m \u001b[0mresult_identifier\u001b[0m\u001b[0;34m=\u001b[0m\u001b[0;34m\"number_of_things\"\u001b[0m\u001b[0;34m,\u001b[0m \u001b[0mvalue\u001b[0m\u001b[0;34m=\u001b[0m\u001b[0;34m[\u001b[0m\u001b[0;34m]\u001b[0m\u001b[0;34m,\u001b[0m \u001b[0mstrict_type\u001b[0m\u001b[0;34m=\u001b[0m\u001b[0;32mFalse\u001b[0m\u001b[0;34m)\u001b[0m\u001b[0;34m\u001b[0m\u001b[0m\n\u001b[0m",
      "\u001b[0;32m/Library/Frameworks/Python.framework/Versions/3.6/lib/python3.6/site-packages/pipestat/pipestat.py\u001b[0m in \u001b[0;36mreport\u001b[0;34m(self, record_identifier, result_identifier, value, force_overwrite, strict_type)\u001b[0m\n\u001b[1;32m    362\u001b[0m         validate_type(value=value,\n\u001b[1;32m    363\u001b[0m                       \u001b[0mschema\u001b[0m\u001b[0;34m=\u001b[0m\u001b[0mself\u001b[0m\u001b[0;34m.\u001b[0m\u001b[0mresult_schemas\u001b[0m\u001b[0;34m[\u001b[0m\u001b[0mresult_identifier\u001b[0m\u001b[0;34m]\u001b[0m\u001b[0;34m.\u001b[0m\u001b[0mto_dict\u001b[0m\u001b[0;34m(\u001b[0m\u001b[0;34m)\u001b[0m\u001b[0;34m,\u001b[0m\u001b[0;34m\u001b[0m\u001b[0m\n\u001b[0;32m--> 364\u001b[0;31m                       strict_type=strict_type)\n\u001b[0m\u001b[1;32m    365\u001b[0m         \u001b[0;32mif\u001b[0m \u001b[0mself\u001b[0m\u001b[0;34m.\u001b[0m\u001b[0mfile\u001b[0m\u001b[0;34m:\u001b[0m\u001b[0;34m\u001b[0m\u001b[0m\n\u001b[1;32m    366\u001b[0m             \u001b[0mself\u001b[0m\u001b[0;34m.\u001b[0m\u001b[0mdata\u001b[0m\u001b[0;34m.\u001b[0m\u001b[0mmake_writable\u001b[0m\u001b[0;34m(\u001b[0m\u001b[0;34m)\u001b[0m\u001b[0;34m\u001b[0m\u001b[0m\n",
      "\u001b[0;32m/Library/Frameworks/Python.framework/Versions/3.6/lib/python3.6/site-packages/pipestat/helpers.py\u001b[0m in \u001b[0;36mvalidate_type\u001b[0;34m(value, schema, strict_type)\u001b[0m\n\u001b[1;32m    139\u001b[0m         \u001b[0m_LOGGER\u001b[0m\u001b[0;34m.\u001b[0m\u001b[0mdebug\u001b[0m\u001b[0;34m(\u001b[0m\u001b[0;34mf\"{str(e)}\"\u001b[0m\u001b[0;34m)\u001b[0m\u001b[0;34m\u001b[0m\u001b[0m\n\u001b[1;32m    140\u001b[0m         \u001b[0;32mif\u001b[0m \u001b[0mschema\u001b[0m\u001b[0;34m[\u001b[0m\u001b[0mSCHEMA_TYPE_KEY\u001b[0m\u001b[0;34m]\u001b[0m \u001b[0;34m!=\u001b[0m \u001b[0;34m\"object\"\u001b[0m\u001b[0;34m:\u001b[0m\u001b[0;34m\u001b[0m\u001b[0m\n\u001b[0;32m--> 141\u001b[0;31m             \u001b[0mvalue\u001b[0m \u001b[0;34m=\u001b[0m \u001b[0mCLASSES_BY_TYPE\u001b[0m\u001b[0;34m[\u001b[0m\u001b[0mschema\u001b[0m\u001b[0;34m[\u001b[0m\u001b[0mSCHEMA_TYPE_KEY\u001b[0m\u001b[0;34m]\u001b[0m\u001b[0;34m]\u001b[0m\u001b[0;34m(\u001b[0m\u001b[0mvalue\u001b[0m\u001b[0;34m)\u001b[0m\u001b[0;34m\u001b[0m\u001b[0m\n\u001b[0m\u001b[1;32m    142\u001b[0m         \u001b[0;32melse\u001b[0m\u001b[0;34m:\u001b[0m\u001b[0;34m\u001b[0m\u001b[0m\n\u001b[1;32m    143\u001b[0m             \u001b[0;32mfor\u001b[0m \u001b[0mprop\u001b[0m\u001b[0;34m,\u001b[0m \u001b[0mprop_dict\u001b[0m \u001b[0;32min\u001b[0m \u001b[0mlist\u001b[0m\u001b[0;34m(\u001b[0m\u001b[0mschema\u001b[0m\u001b[0;34m[\u001b[0m\u001b[0mSCHEMA_PROP_KEY\u001b[0m\u001b[0;34m]\u001b[0m\u001b[0;34m.\u001b[0m\u001b[0mitems\u001b[0m\u001b[0;34m(\u001b[0m\u001b[0;34m)\u001b[0m\u001b[0;34m)\u001b[0m\u001b[0;34m:\u001b[0m\u001b[0;34m\u001b[0m\u001b[0m\n",
      "\u001b[0;31mTypeError\u001b[0m: int() argument must be a string, a bytes-like object or a number, not 'list'"
     ]
    }
   ],
   "source": [
    "try:\n",
    "psm.report(record_identifier=\"sample2\", result_identifier=\"number_of_things\", value=[], strict_type=False)"
   ]
  },
  {
   "cell_type": "code",
   "execution_count": 19,
   "metadata": {},
   "outputs": [
    {
     "data": {
      "text/plain": [
       "test:\n",
       "  sample1:\n",
       "    output_file:\n",
       "      path: /home/user/path_new.csv\n",
       "      title: new CSV file with some data\n",
       "    number_of_things: 10"
      ]
     },
     "execution_count": 19,
     "metadata": {},
     "output_type": "execute_result"
    }
   ],
   "source": [
    "psm.data"
   ]
  },
  {
   "cell_type": "markdown",
   "metadata": {},
   "source": [
    "### Removal"
   ]
  },
  {
   "cell_type": "markdown",
   "metadata": {},
   "source": [
    "`PipestatManager` object also supports results removal. Call `remove` method and provide `record_identifier` and  `result_identifier` method to do so:"
   ]
  },
  {
   "cell_type": "code",
   "execution_count": 20,
   "metadata": {},
   "outputs": [
    {
     "data": {
      "text/plain": [
       "True"
      ]
     },
     "execution_count": 20,
     "metadata": {},
     "output_type": "execute_result"
    }
   ],
   "source": [
    "psm.remove(record_identifier=\"sample1\", result_identifier=\"number_of_things\")"
   ]
  },
  {
   "cell_type": "markdown",
   "metadata": {},
   "source": [
    "The entire record, skip the `result_identifier` argument:"
   ]
  },
  {
   "cell_type": "code",
   "execution_count": 21,
   "metadata": {},
   "outputs": [
    {
     "name": "stderr",
     "output_type": "stream",
     "text": [
      "Removing 'sample2' record\n"
     ]
    },
    {
     "data": {
      "text/plain": [
       "True"
      ]
     },
     "execution_count": 21,
     "metadata": {},
     "output_type": "execute_result"
    }
   ],
   "source": [
    "psm.remove(record_identifier=\"sample2\")"
   ]
  },
  {
   "cell_type": "markdown",
   "metadata": {},
   "source": [
    "Verify that an appropriate entry from the results was deleted:"
   ]
  },
  {
   "cell_type": "code",
   "execution_count": 22,
   "metadata": {},
   "outputs": [
    {
     "data": {
      "text/plain": [
       "test:\n",
       "  sample1:\n",
       "    output_file:\n",
       "      path: /home/user/path_new.csv\n",
       "      title: new CSV file with some data"
      ]
     },
     "execution_count": 22,
     "metadata": {},
     "output_type": "execute_result"
    }
   ],
   "source": [
    "psm.data"
   ]
  },
  {
   "cell_type": "code",
   "execution_count": null,
   "metadata": {},
   "outputs": [],
   "source": []
  }
 ],
 "metadata": {
  "kernelspec": {
   "display_name": "Python 3",
   "language": "python",
   "name": "python3"
  },
  "language_info": {
   "codemirror_mode": {
    "name": "ipython",
    "version": 3
   },
   "file_extension": ".py",
   "mimetype": "text/x-python",
   "name": "python",
   "nbconvert_exporter": "python",
   "pygments_lexer": "ipython3",
   "version": "3.6.5"
  }
 },
 "nbformat": 4,
 "nbformat_minor": 2
}
