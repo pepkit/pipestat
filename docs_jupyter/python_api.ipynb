{
 "cells": [
  {
   "cell_type": "markdown",
   "metadata": {},
   "source": [
    "# Pipestat Python API\n",
    "\n",
    "Pipestat is a [Python package](https://pypi.org/project/pipestat/) for a standardized reporting of pipeline statistics.\n",
    "\n",
    "It formalizes a way for pipeline developers and downstream tools developers to communicate -- results produced by a pipeline can easily and reliably become an input for downstream analyses.\n",
    "\n",
    "## Usage\n",
    "\n",
    "Here's how a pipeline developer can use `pipestat` to report results:"
   ]
  },
  {
   "cell_type": "code",
   "execution_count": 1,
   "metadata": {},
   "outputs": [],
   "source": [
    "import pipestat\n",
    "from jsonschema import ValidationError"
   ]
  },
  {
   "cell_type": "markdown",
   "metadata": {},
   "source": [
    "After importing the package, create an `PipestatManager` object. The object constructor requires a few pieces of information: \n",
    "\n",
    "1. a namespace to write into, for example the name of the pipeline\n",
    "2. a path to the schema file that describes results that can be reported\n",
    "3. backend info: either path to a YAML-formatted file or pipestat config with PostgreSQL database login credentials\n",
    "\n",
    "## Back-end types\n",
    "\n",
    "Two types of back-ends are currently supported:\n",
    "\n",
    "1. a **file** (pass a file path to the constructor)  \n",
    "The changes reported using the `report` method of `PipestatManger` will be securely written to the file. Currently only [YAML](https://yaml.org/) format is supported. \n",
    "\n",
    "2. a **PostgreSQL database** (pass a path to the pipestat config to the constructor)\n",
    "This option gives the user the possibility to use a fully fledged database to back `PipestatManager`. \n",
    "\n",
    "To use a file as the back-end, just pass a file path string to the constructor. Let's create a temporary file first:"
   ]
  },
  {
   "cell_type": "code",
   "execution_count": 2,
   "metadata": {},
   "outputs": [
    {
     "name": "stdout",
     "output_type": "stream",
     "text": [
      "/var/folders/3f/0wj7rs2144l9zsgxd3jn5nxc0000gn/T/tmpbqkr2ztj.yaml\n"
     ]
    }
   ],
   "source": [
    "from tempfile import mkstemp\n",
    "_, temp_file = mkstemp(suffix=\".yaml\")\n",
    "print(temp_file)"
   ]
  },
  {
   "cell_type": "markdown",
   "metadata": {},
   "source": [
    "Now we can create a `PipestatManager` object that uses this file as the back-end:"
   ]
  },
  {
   "cell_type": "code",
   "execution_count": 3,
   "metadata": {},
   "outputs": [],
   "source": [
    "psm = pipestat.PipestatManager(\n",
    "    namespace=\"test\", \n",
    "    record_identifier=\"sample1\", \n",
    "    results_file_path=temp_file, \n",
    "    schema_path=\"../tests/data/sample_output_schema.yaml\"\n",
    ")"
   ]
  },
  {
   "cell_type": "markdown",
   "metadata": {},
   "source": [
    "The results will be reported to a \"test\" namespace."
   ]
  },
  {
   "cell_type": "code",
   "execution_count": 4,
   "metadata": {},
   "outputs": [
    {
     "data": {
      "text/plain": [
       "'test'"
      ]
     },
     "execution_count": 4,
     "metadata": {},
     "output_type": "execute_result"
    }
   ],
   "source": [
    "psm.namespace"
   ]
  },
  {
   "cell_type": "markdown",
   "metadata": {},
   "source": [
    "By default, `PipestatManager` instance is bound to the record it was initialized with. However, reporting or removing results for a different record can be enforced in the respective methods with `record_identifier` argument."
   ]
  },
  {
   "cell_type": "code",
   "execution_count": 5,
   "metadata": {},
   "outputs": [
    {
     "data": {
      "text/plain": [
       "'sample1'"
      ]
     },
     "execution_count": 5,
     "metadata": {},
     "output_type": "execute_result"
    }
   ],
   "source": [
    "psm.record_identifier"
   ]
  },
  {
   "cell_type": "markdown",
   "metadata": {},
   "source": [
    "Since we've used a newly created file, nothing has been reported yet:"
   ]
  },
  {
   "cell_type": "code",
   "execution_count": 6,
   "metadata": {},
   "outputs": [
    {
     "data": {
      "text/plain": [
       "YacAttMap: {}"
      ]
     },
     "execution_count": 6,
     "metadata": {},
     "output_type": "execute_result"
    }
   ],
   "source": [
    "psm.data"
   ]
  },
  {
   "cell_type": "markdown",
   "metadata": {},
   "source": [
    "## Reporting results"
   ]
  },
  {
   "cell_type": "markdown",
   "metadata": {},
   "source": [
    "To report a result, use a `report` method. It requires three pieces of information:\n",
    "\n",
    "1. record identifier -- record to report the result for, for example a unique name of the sample (optional if provided at `PipestatManager` initialization stage)\n",
    "2. values -- a Python `dict` of resultID-value pairs to report. The top level keys need to correspond to the results identifiers defined in the schema\n",
    "\n",
    "### Available results defined in schemas\n",
    "\n",
    "To learn about the results that the current `PipestatManager` instance supports check out the `schema` property:"
   ]
  },
  {
   "cell_type": "code",
   "execution_count": 7,
   "metadata": {},
   "outputs": [
    {
     "data": {
      "text/plain": [
       "{'number_of_things': {'type': 'integer', 'description': 'Number of things'},\n",
       " 'percentage_of_things': {'type': 'number',\n",
       "  'description': 'Percentage of things'},\n",
       " 'name_of_something': {'type': 'string', 'description': 'Name of something'},\n",
       " 'swtich_value': {'type': 'boolean', 'description': 'Is the switch on of off'},\n",
       " 'collection_of_things': {'type': 'array',\n",
       "  'description': 'This store collection of values'},\n",
       " 'output_object': {'type': 'object', 'description': 'Object output'},\n",
       " 'output_file': {'type': 'file',\n",
       "  'description': 'This a path to the output file'},\n",
       " 'output_image': {'type': 'image',\n",
       "  'description': 'This a path to the output image'}}"
      ]
     },
     "execution_count": 7,
     "metadata": {},
     "output_type": "execute_result"
    }
   ],
   "source": [
    "psm.schema"
   ]
  },
  {
   "cell_type": "markdown",
   "metadata": {},
   "source": [
    "To learn about the actual required attributes of the reported results, like `file` or `image` (see: `output_file` and `output_image` results) select the `result_identifier` from the `result_schemas` property:"
   ]
  },
  {
   "cell_type": "code",
   "execution_count": 8,
   "metadata": {},
   "outputs": [
    {
     "data": {
      "text/plain": [
       "{'type': 'object',\n",
       " 'description': 'This a path to the output file',\n",
       " 'properties': {'path': {'type': 'string'}, 'title': {'type': 'string'}},\n",
       " 'required': ['path', 'title']}"
      ]
     },
     "execution_count": 8,
     "metadata": {},
     "output_type": "execute_result"
    }
   ],
   "source": [
    "psm.result_schemas[\"output_file\"]"
   ]
  },
  {
   "cell_type": "markdown",
   "metadata": {},
   "source": [
    "### Results composition enforcement\n",
    "As you can see, to report a `output_file` result, you need to provide an object with `path` and `title` string attributes. If you fail to do so `PipestatManager` will issue an informative validation error:"
   ]
  },
  {
   "cell_type": "code",
   "execution_count": 9,
   "metadata": {},
   "outputs": [
    {
     "name": "stdout",
     "output_type": "stream",
     "text": [
      "'title' is a required property\n",
      "\n",
      "Failed validating 'required' in schema:\n",
      "    {'description': 'This a path to the output file',\n",
      "     'properties': {'path': {'type': 'string'},\n",
      "                    'title': {'type': 'string'}},\n",
      "     'required': ['path', 'title'],\n",
      "     'type': 'object'}\n",
      "\n",
      "On instance:\n",
      "    {'path': '/home/user/path.csv'}\n"
     ]
    }
   ],
   "source": [
    "try: \n",
    "    psm.report(values={\"output_file\": {\"path\": \"/home/user/path.csv\"}})\n",
    "except ValidationError as e:\n",
    "    print(e)"
   ]
  },
  {
   "cell_type": "markdown",
   "metadata": {},
   "source": [
    "Let's report a correct object this time:"
   ]
  },
  {
   "cell_type": "code",
   "execution_count": 10,
   "metadata": {},
   "outputs": [
    {
     "name": "stderr",
     "output_type": "stream",
     "text": [
      "Reported records for 'sample1' in 'test' namespace:\n",
      " - output_file: {'path': '/home/user/path.csv', 'title': 'CSV file with some data'}\n"
     ]
    },
    {
     "data": {
      "text/plain": [
       "True"
      ]
     },
     "execution_count": 10,
     "metadata": {},
     "output_type": "execute_result"
    }
   ],
   "source": [
    "psm.report(\n",
    "  values={\"output_file\": {\"path\": \"/home/user/path.csv\", \"title\": \"CSV file with some data\"}}\n",
    ")"
   ]
  },
  {
   "cell_type": "markdown",
   "metadata": {},
   "source": [
    "Inspect the object's database to verify whether the result has been successfully reported:"
   ]
  },
  {
   "cell_type": "code",
   "execution_count": 11,
   "metadata": {},
   "outputs": [
    {
     "data": {
      "text/plain": [
       "test:\n",
       "  sample1:\n",
       "    output_file:\n",
       "      path: /home/user/path.csv\n",
       "      title: CSV file with some data"
      ]
     },
     "execution_count": 11,
     "metadata": {},
     "output_type": "execute_result"
    }
   ],
   "source": [
    "psm.data"
   ]
  },
  {
   "cell_type": "markdown",
   "metadata": {},
   "source": [
    "No results duplication is allowed, unless you force overwrite:"
   ]
  },
  {
   "cell_type": "code",
   "execution_count": 12,
   "metadata": {},
   "outputs": [
    {
     "name": "stderr",
     "output_type": "stream",
     "text": [
      "These results exist for 'sample1': ['output_file']\n"
     ]
    },
    {
     "data": {
      "text/plain": [
       "False"
      ]
     },
     "execution_count": 12,
     "metadata": {},
     "output_type": "execute_result"
    }
   ],
   "source": [
    "psm.report(\n",
    "  values={\"output_file\": {\"path\": \"/home/user/path_new.csv\", \"title\": \"new CSV file with some data\"}}\n",
    ")"
   ]
  },
  {
   "cell_type": "code",
   "execution_count": 13,
   "metadata": {},
   "outputs": [
    {
     "name": "stderr",
     "output_type": "stream",
     "text": [
      "These results exist for 'sample1': ['output_file']\n",
      "Overwriting existing results: ['output_file']\n",
      "Reported records for 'sample1' in 'test' namespace:\n",
      " - output_file: {'path': '/home/user/path_new.csv', 'title': 'new CSV file with some data'}\n"
     ]
    },
    {
     "data": {
      "text/plain": [
       "test:\n",
       "  sample1:\n",
       "    output_file:\n",
       "      path: /home/user/path_new.csv\n",
       "      title: new CSV file with some data"
      ]
     },
     "execution_count": 13,
     "metadata": {},
     "output_type": "execute_result"
    }
   ],
   "source": [
    "psm.report(\n",
    "  values={\"output_file\": {\"path\": \"/home/user/path_new.csv\", \"title\": \"new CSV file with some data\"}},\n",
    "  force_overwrite=True\n",
    ")\n",
    "psm.data"
   ]
  },
  {
   "cell_type": "markdown",
   "metadata": {},
   "source": [
    "Most importantly, by backing the object by a file, the reported results persist -- another `PipestatManager` object reads the results when created:"
   ]
  },
  {
   "cell_type": "code",
   "execution_count": 14,
   "metadata": {},
   "outputs": [],
   "source": [
    "psm1 = pipestat.PipestatManager(\n",
    "  namespace=\"test\",\n",
    "  record_identifier=\"sample1\",\n",
    "  results_file_path=temp_file,\n",
    "  schema_path=\"../tests/data/sample_output_schema.yaml\"\n",
    ")"
   ]
  },
  {
   "cell_type": "code",
   "execution_count": 15,
   "metadata": {},
   "outputs": [
    {
     "data": {
      "text/plain": [
       "test:\n",
       "  sample1:\n",
       "    output_file:\n",
       "      path: /home/user/path_new.csv\n",
       "      title: new CSV file with some data"
      ]
     },
     "execution_count": 15,
     "metadata": {},
     "output_type": "execute_result"
    }
   ],
   "source": [
    "psm.data"
   ]
  },
  {
   "cell_type": "markdown",
   "metadata": {},
   "source": [
    "That's because the contents are stored in the file we've specified at object creation stage:"
   ]
  },
  {
   "cell_type": "code",
   "execution_count": 16,
   "metadata": {},
   "outputs": [
    {
     "name": "stdout",
     "output_type": "stream",
     "text": [
      "/var/folders/3f/0wj7rs2144l9zsgxd3jn5nxc0000gn/T/tmpbqkr2ztj.yaml\n",
      "test:\n",
      "  sample1:\n",
      "    output_file:\n",
      "      path: /home/user/path_new.csv\n",
      "      title: new CSV file with some data\n"
     ]
    }
   ],
   "source": [
    "!echo $temp_file\n",
    "!cat $temp_file"
   ]
  },
  {
   "cell_type": "markdown",
   "metadata": {},
   "source": [
    "Note that two processes can securely report to a single file and single namespace since `pipestat` supports locks and race-free writes to control multi-user conflicts and prevent data loss.\n",
    "\n",
    "### Results type enforcement\n",
    "\n",
    "By default `PipestatManager` raises an exception if a non-compatible result value is reported. \n",
    "\n",
    "This behavior can be changed by setting `stric_type` to `True` in `PipestatManager.report` method. In thi case `PipestatManager` tries to cast the reported results values to the Python classes required by schema. For example, if a result defined as `integer` is reported and a `str` value is passed, the eventual value will be `int`:"
   ]
  },
  {
   "cell_type": "code",
   "execution_count": 17,
   "metadata": {},
   "outputs": [
    {
     "data": {
      "text/plain": [
       "{'type': 'integer', 'description': 'Number of things'}"
      ]
     },
     "execution_count": 17,
     "metadata": {},
     "output_type": "execute_result"
    }
   ],
   "source": [
    "psm.result_schemas[\"number_of_things\"]"
   ]
  },
  {
   "cell_type": "code",
   "execution_count": 18,
   "metadata": {},
   "outputs": [
    {
     "name": "stderr",
     "output_type": "stream",
     "text": [
      "Reported records for 'sample1' in 'test' namespace:\n",
      " - number_of_things: 10\n"
     ]
    },
    {
     "data": {
      "text/plain": [
       "True"
      ]
     },
     "execution_count": 18,
     "metadata": {},
     "output_type": "execute_result"
    }
   ],
   "source": [
    "psm.report(values={\"number_of_things\": \"10\"}, strict_type=False)"
   ]
  },
  {
   "cell_type": "markdown",
   "metadata": {},
   "source": [
    "The method will attempt to cast the value to a proper Python class and store the converted object. In case of a failure, an error will be raised:"
   ]
  },
  {
   "cell_type": "code",
   "execution_count": 19,
   "metadata": {},
   "outputs": [
    {
     "name": "stdout",
     "output_type": "stream",
     "text": [
      "int() argument must be a string, a bytes-like object or a number, not 'list'\n"
     ]
    }
   ],
   "source": [
    "try:\n",
    "    psm.report(\n",
    "      record_identifier=\"sample2\",\n",
    "      values={\"number_of_things\": []},\n",
    "      strict_type=False\n",
    "    )\n",
    "except TypeError as e:\n",
    "    print(e)"
   ]
  },
  {
   "cell_type": "markdown",
   "metadata": {},
   "source": [
    "Note that in this case we tried to report a result for a different record (`sample2`), which had to be enforced with `record_identifier` argument."
   ]
  },
  {
   "cell_type": "code",
   "execution_count": 20,
   "metadata": {},
   "outputs": [
    {
     "data": {
      "text/plain": [
       "test:\n",
       "  sample1:\n",
       "    output_file:\n",
       "      path: /home/user/path_new.csv\n",
       "      title: new CSV file with some data\n",
       "    number_of_things: 10"
      ]
     },
     "execution_count": 20,
     "metadata": {},
     "output_type": "execute_result"
    }
   ],
   "source": [
    "psm.data"
   ]
  },
  {
   "cell_type": "markdown",
   "metadata": {},
   "source": [
    "## Removing results"
   ]
  },
  {
   "cell_type": "markdown",
   "metadata": {},
   "source": [
    "`PipestatManager` object also supports results removal. Call `remove` method and provide `record_identifier` and  `result_identifier` method to do so:"
   ]
  },
  {
   "cell_type": "code",
   "execution_count": 21,
   "metadata": {},
   "outputs": [
    {
     "name": "stderr",
     "output_type": "stream",
     "text": [
      "Removed result 'number_of_things' for record 'sample1' from 'test' namespace\n"
     ]
    },
    {
     "data": {
      "text/plain": [
       "True"
      ]
     },
     "execution_count": 21,
     "metadata": {},
     "output_type": "execute_result"
    }
   ],
   "source": [
    "psm.remove(result_identifier=\"number_of_things\")"
   ]
  },
  {
   "cell_type": "markdown",
   "metadata": {},
   "source": [
    "The entire record, skip the `result_identifier` argument:"
   ]
  },
  {
   "cell_type": "code",
   "execution_count": 22,
   "metadata": {},
   "outputs": [
    {
     "name": "stderr",
     "output_type": "stream",
     "text": [
      "Removing 'sample1' record\n"
     ]
    },
    {
     "data": {
      "text/plain": [
       "True"
      ]
     },
     "execution_count": 22,
     "metadata": {},
     "output_type": "execute_result"
    }
   ],
   "source": [
    "psm.remove()"
   ]
  },
  {
   "cell_type": "markdown",
   "metadata": {},
   "source": [
    "Verify that an appropriate entry from the results was deleted:"
   ]
  },
  {
   "cell_type": "code",
   "execution_count": 23,
   "metadata": {
    "pycharm": {
     "name": "#%%\n"
    }
   },
   "outputs": [
    {
     "data": {
      "text/plain": [
       "test: OrderedDict()"
      ]
     },
     "execution_count": 23,
     "metadata": {},
     "output_type": "execute_result"
    }
   ],
   "source": [
    "psm.data"
   ]
  },
  {
   "cell_type": "markdown",
   "metadata": {},
   "source": [
    "## Highligting results\n",
    "\n",
    "In order to highlight results we need to add an extra property in the pipestat results schema (`highlight: true`) under the result identifier that we wish to highlight. "
   ]
  },
  {
   "cell_type": "code",
   "execution_count": 24,
   "metadata": {},
   "outputs": [
    {
     "name": "stdout",
     "output_type": "stream",
     "text": [
      "/var/folders/3f/0wj7rs2144l9zsgxd3jn5nxc0000gn/T/tmpu4ull0e9.yaml\n"
     ]
    }
   ],
   "source": [
    "from tempfile import mkstemp\n",
    "_, temp_file_highlight = mkstemp(suffix=\".yaml\")\n",
    "print(temp_file_highlight)\n",
    "\n",
    "psm_highlight = pipestat.PipestatManager(\n",
    "    namespace=\"test_highlight\", \n",
    "    record_identifier=\"sample1\", \n",
    "    results_file_path=temp_file_highlight, \n",
    "    schema_path=\"../tests/data/sample_output_schema_highlight.yaml\"\n",
    ")"
   ]
  },
  {
   "cell_type": "markdown",
   "metadata": {},
   "source": [
    "For example, result `log` is highlighted in this case:"
   ]
  },
  {
   "cell_type": "code",
   "execution_count": 25,
   "metadata": {},
   "outputs": [
    {
     "data": {
      "text/plain": [
       "{'number_of_things': {'type': 'integer', 'description': 'Number of things'},\n",
       " 'percentage_of_things': {'type': 'number',\n",
       "  'description': 'Percentage of things'},\n",
       " 'name_of_something': {'type': 'string', 'description': 'Name of something'},\n",
       " 'swtich_value': {'type': 'boolean', 'description': 'Is the switch on of off'},\n",
       " 'collection_of_things': {'type': 'array',\n",
       "  'description': 'This store collection of values'},\n",
       " 'output_object': {'type': 'object', 'description': 'Object output'},\n",
       " 'output_file': {'type': 'file',\n",
       "  'description': 'This a path to the output file'},\n",
       " 'output_image': {'type': 'image',\n",
       "  'highlight': False,\n",
       "  'description': 'This a path to the output image'},\n",
       " 'log': {'type': 'file',\n",
       "  'highlight': True,\n",
       "  'description': 'The log file of the pipeline run'},\n",
       " 'profile': {'type': 'file',\n",
       "  'highlight': True,\n",
       "  'description': 'The profile of the pipeline run'},\n",
       " 'commands': {'type': 'file',\n",
       "  'highlight': True,\n",
       "  'description': 'The file with shell commands executed by this pipeline'},\n",
       " 'version': {'type': 'string',\n",
       "  'highlight': True,\n",
       "  'description': 'Pipeline version'}}"
      ]
     },
     "execution_count": 25,
     "metadata": {},
     "output_type": "execute_result"
    }
   ],
   "source": [
    "psm_highlight.schema"
   ]
  },
  {
   "cell_type": "markdown",
   "metadata": {},
   "source": [
    "The highlighting feature can be used by pipestat clients to present the highlighted results in a special way."
   ]
  },
  {
   "cell_type": "code",
   "execution_count": 26,
   "metadata": {},
   "outputs": [
    {
     "data": {
      "text/plain": [
       "['log', 'profile', 'commands', 'version']"
      ]
     },
     "execution_count": 26,
     "metadata": {},
     "output_type": "execute_result"
    }
   ],
   "source": [
    "psm_highlight.highlighted_results"
   ]
  },
  {
   "cell_type": "markdown",
   "metadata": {},
   "source": [
    "## Pipeline status management\n",
    "\n",
    "Pipestat provides a pipeline status management system, which can be used to set and read pipeline status. To maintain the status information between sessions it uses flags or additional DB table if the `PipestatManager` object is backed with YAML file or PostgreSQL database, respectively.\n",
    "\n",
    "To set pipeline status use `set_status` method:"
   ]
  },
  {
   "cell_type": "code",
   "execution_count": 27,
   "metadata": {},
   "outputs": [],
   "source": [
    "psm.set_status(record_identifier=\"sample1\", status_identifier=\"running\")"
   ]
  },
  {
   "cell_type": "markdown",
   "metadata": {},
   "source": [
    "To get pipeline status use `get_status` method:"
   ]
  },
  {
   "cell_type": "code",
   "execution_count": 28,
   "metadata": {},
   "outputs": [],
   "source": [
    "psm.get_status(record_identifier=\"sample1\")"
   ]
  },
  {
   "cell_type": "markdown",
   "metadata": {},
   "source": [
    "Allowable statuses and related metadata are defined in the status schema, which can be accessed via `PipestatManager.status_schema` property."
   ]
  },
  {
   "cell_type": "code",
   "execution_count": 29,
   "metadata": {},
   "outputs": [
    {
     "data": {
      "text/plain": [
       "{'running': {'description': 'the pipeline is running',\n",
       "  'color': [30, 144, 255]},\n",
       " 'completed': {'description': 'the pipeline has completed',\n",
       "  'color': [50, 205, 50]},\n",
       " 'failed': {'description': 'the pipeline has failed', 'color': [220, 20, 60]},\n",
       " 'waiting': {'description': 'the pipeline is waiting',\n",
       "  'color': [240, 230, 140]},\n",
       " 'partial': {'description': 'the pipeline stopped before completion point',\n",
       "  'color': [169, 169, 169]}}"
      ]
     },
     "execution_count": 29,
     "metadata": {},
     "output_type": "execute_result"
    }
   ],
   "source": [
    "psm.status_schema"
   ]
  },
  {
   "cell_type": "markdown",
   "metadata": {},
   "source": [
    "`pipestat` Python package ships with a default status schema, so we did not have to provide the schema when constructing the `PipestatManager` object. Similarly, the flags containg directory is an optional configuration option. \n",
    "\n",
    "Please refer to the Python API documentation (`__init__` method) to see how to use custom status schema and flags directory."
   ]
  }
 ],
 "metadata": {
  "kernelspec": {
   "display_name": "Python 3",
   "language": "python",
   "name": "python3"
  },
  "language_info": {
   "codemirror_mode": {
    "name": "ipython",
    "version": 3
   },
   "file_extension": ".py",
   "mimetype": "text/x-python",
   "name": "python",
   "nbconvert_exporter": "python",
   "pygments_lexer": "ipython3",
   "version": "3.6.5"
  }
 },
 "nbformat": 4,
 "nbformat_minor": 2
}
