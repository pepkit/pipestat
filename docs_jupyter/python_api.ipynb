{
 "cells": [
  {
   "cell_type": "markdown",
   "metadata": {},
   "source": [
    "# `pipestat` python API\n",
    "\n",
    "`pipestat` is a [Python package](https://pypi.org/project/pipestat/) for a standardized reporting of pipeline statistics.\n",
    "\n",
    "It formalizes a way for pipeline developers and downstream tools developers to communicate -- results produced by a pipeline can easily and reliably become an input for downstream analyses.\n",
    "\n",
    "## Usage\n",
    "\n",
    "Here's how a pipeline developer can use `pipestat` to report results:"
   ]
  },
  {
   "cell_type": "code",
   "execution_count": 1,
   "metadata": {},
   "outputs": [],
   "source": [
    "import pipestat"
   ]
  },
  {
   "cell_type": "markdown",
   "metadata": {},
   "source": [
    "After importing the package, create an `PipeStatManager` object. The object constructor requires two pieces of information: \n",
    "\n",
    "1. a database back-end\n",
    "2. a namespace to write to, for example the name of the pipeline\n",
    "\n",
    "## Back-end types\n",
    "\n",
    "Two types of back-ends are currently supported:\n",
    "\n",
    "1. a **file** (pass a file path to the constructor)  \n",
    "The changes reported using the `report` method of `PipeStatManger` will be securely written to the file. Currently only [YAML](https://yaml.org/) format is supported. \n",
    "\n",
    "2. a **`Mapping`** (pass a  dict-like object to the constuctor)  \n",
    "This option gives the user the possibility to use a fully fledged database to back `PipeStatManager`. The `Mapping` is then an interface between the object and the database. Alternatively, for testing purposes, one can use a standard Python `dict` object.\n",
    "\n",
    "To use a file as the back-end, just pass a file path string to the constructor. Let's create a temporary file first:"
   ]
  },
  {
   "cell_type": "code",
   "execution_count": 2,
   "metadata": {},
   "outputs": [
    {
     "name": "stdout",
     "output_type": "stream",
     "text": [
      "/var/folders/3f/0wj7rs2144l9zsgxd3jn5nxc0000gn/T/tmpp8zm7575.yaml\n"
     ]
    }
   ],
   "source": [
    "from tempfile import mkstemp\n",
    "_, temp_file = mkstemp(suffix=\".yaml\")\n",
    "print(temp_file)"
   ]
  },
  {
   "cell_type": "markdown",
   "metadata": {},
   "source": [
    "Now we can create a `PipeStatManager` object that uses this file as the back-end:"
   ]
  },
  {
   "cell_type": "code",
   "execution_count": 3,
   "metadata": {},
   "outputs": [],
   "source": [
    "psm = pipestat.PipeStatManager(database=temp_file, name=\"test\")"
   ]
  },
  {
   "cell_type": "markdown",
   "metadata": {},
   "source": [
    "The results will be reported to a \"test\" namespace."
   ]
  },
  {
   "cell_type": "code",
   "execution_count": 4,
   "metadata": {},
   "outputs": [
    {
     "data": {
      "text/plain": [
       "'test'"
      ]
     },
     "execution_count": 4,
     "metadata": {},
     "output_type": "execute_result"
    }
   ],
   "source": [
    "psm.name"
   ]
  },
  {
   "cell_type": "markdown",
   "metadata": {},
   "source": [
    "Since we've used a newly created file, nothing has been reported yet:"
   ]
  },
  {
   "cell_type": "code",
   "execution_count": 5,
   "metadata": {},
   "outputs": [
    {
     "data": {
      "text/plain": [
       "{}"
      ]
     },
     "execution_count": 5,
     "metadata": {},
     "output_type": "execute_result"
    }
   ],
   "source": [
    "psm.database"
   ]
  },
  {
   "cell_type": "markdown",
   "metadata": {},
   "source": [
    "### Reporting basics"
   ]
  },
  {
   "cell_type": "markdown",
   "metadata": {},
   "source": [
    "To report a result, use a `report` method. It requires three pieces of information:\n",
    "1. `id` -- name of the reported object\n",
    "2. `type` -- type of the reported object\n",
    "3. `value` -- value of the reported object\n",
    "\n",
    "Here is a list of currently supported types and Python classes that represent them:"
   ]
  },
  {
   "cell_type": "code",
   "execution_count": 6,
   "metadata": {},
   "outputs": [
    {
     "data": {
      "text/plain": [
       "{'integer': int,\n",
       " 'float': float,\n",
       " 'string': str,\n",
       " 'boolean': bool,\n",
       " 'object': collections.abc.Mapping,\n",
       " 'null': NoneType,\n",
       " 'array': list,\n",
       " 'file': str,\n",
       " 'image': str}"
      ]
     },
     "execution_count": 6,
     "metadata": {},
     "output_type": "execute_result"
    }
   ],
   "source": [
    "pipestat.CLASSES_BY_TYPE"
   ]
  },
  {
   "cell_type": "markdown",
   "metadata": {},
   "source": [
    "Consequently, to report an \"integer\" use a Python `int` object:"
   ]
  },
  {
   "cell_type": "code",
   "execution_count": 7,
   "metadata": {},
   "outputs": [
    {
     "name": "stderr",
     "output_type": "stream",
     "text": [
      "Cached new 'test' record: reads_count=1000(integer)\n",
      "Wrote 1 cached records: {'test': {'reads_count': {'value': 1000, 'type': 'integer'}}}\n"
     ]
    },
    {
     "data": {
      "text/plain": [
       "True"
      ]
     },
     "execution_count": 7,
     "metadata": {},
     "output_type": "execute_result"
    }
   ],
   "source": [
    "psm.report(id=\"reads_count\",type=\"integer\",value=1000)"
   ]
  },
  {
   "cell_type": "markdown",
   "metadata": {},
   "source": [
    "Inspect the object's database to verify whether the result has beed successfully reported:"
   ]
  },
  {
   "cell_type": "code",
   "execution_count": 8,
   "metadata": {},
   "outputs": [
    {
     "data": {
      "text/plain": [
       "{'test': {'reads_count': {'value': 1000, 'type': 'integer'}}}"
      ]
     },
     "execution_count": 8,
     "metadata": {},
     "output_type": "execute_result"
    }
   ],
   "source": [
    "psm.database"
   ]
  },
  {
   "cell_type": "markdown",
   "metadata": {},
   "source": [
    "Only unique IDs can be reported:"
   ]
  },
  {
   "cell_type": "code",
   "execution_count": 9,
   "metadata": {},
   "outputs": [
    {
     "name": "stderr",
     "output_type": "stream",
     "text": [
      "'reads_count' already in database for 'test' namespace\n"
     ]
    },
    {
     "data": {
      "text/plain": [
       "False"
      ]
     },
     "execution_count": 9,
     "metadata": {},
     "output_type": "execute_result"
    }
   ],
   "source": [
    "psm.report(id=\"reads_count\", type=\"integer\", value=1001)"
   ]
  },
  {
   "cell_type": "markdown",
   "metadata": {},
   "source": [
    "To force overwrite of a previously reported result, set `overwrite` argument to `True`:"
   ]
  },
  {
   "cell_type": "code",
   "execution_count": 21,
   "metadata": {},
   "outputs": [
    {
     "name": "stderr",
     "output_type": "stream",
     "text": [
      "'reads_count' already in database for 'test' namespace\n",
      "Cached new 'test' record: reads_count=1001(integer)\n",
      "Wrote 1 cached records: {'test': {'reads_count': {'value': 1001, 'type': 'integer'}}}\n"
     ]
    },
    {
     "data": {
      "text/plain": [
       "{'test': {'reads_count': {'value': 1001, 'type': 'integer'},\n",
       "  'peaks_count1': {'value': 10, 'type': 'integer'},\n",
       "  'cores_count': {'value': 4, 'type': 'integer'}}}"
      ]
     },
     "execution_count": 21,
     "metadata": {},
     "output_type": "execute_result"
    }
   ],
   "source": [
    "psm.report(id=\"reads_count\", type=\"integer\", value=1001, overwrite=True)\n",
    "psm.database"
   ]
  },
  {
   "cell_type": "markdown",
   "metadata": {},
   "source": [
    "Most importantly, by backing the object by a file, the reported results persist -- another `PipeStatManager` object reads the results when created:"
   ]
  },
  {
   "cell_type": "code",
   "execution_count": 10,
   "metadata": {},
   "outputs": [],
   "source": [
    "psm1 = pipestat.PipeStatManager(database=temp_file, name=\"test\")"
   ]
  },
  {
   "cell_type": "code",
   "execution_count": 11,
   "metadata": {},
   "outputs": [
    {
     "data": {
      "text/plain": [
       "{'test': {'reads_count': {'value': 1000, 'type': 'integer'}}}"
      ]
     },
     "execution_count": 11,
     "metadata": {},
     "output_type": "execute_result"
    }
   ],
   "source": [
    "psm.database"
   ]
  },
  {
   "cell_type": "markdown",
   "metadata": {},
   "source": [
    "That's because the contets are stored in the file we've specified at object creation stage:"
   ]
  },
  {
   "cell_type": "code",
   "execution_count": 12,
   "metadata": {},
   "outputs": [
    {
     "name": "stdout",
     "output_type": "stream",
     "text": [
      "test:\r\n",
      "  reads_count:\r\n",
      "    value: 1000\r\n",
      "    type: integer\r\n"
     ]
    }
   ],
   "source": [
    "!cat $temp_file"
   ]
  },
  {
   "cell_type": "markdown",
   "metadata": {},
   "source": [
    "Note that two processes can securely report to a single file and single namespace since `pipestat` supports locks and race-free writes to control multi-user conflicts and prevent data loss.\n",
    "\n",
    "### Type enfocement\n",
    "\n",
    "By default the class of the reported value is not checked, to enforce Python class correctness set `strict_type` argument to `True`:"
   ]
  },
  {
   "cell_type": "code",
   "execution_count": 13,
   "metadata": {},
   "outputs": [
    {
     "name": "stderr",
     "output_type": "stream",
     "text": [
      "Cached new 'test' record: peaks_count1=10(integer)\n",
      "Wrote 1 cached records: {'test': {'peaks_count1': {'value': 10, 'type': 'integer'}}}\n"
     ]
    },
    {
     "data": {
      "text/plain": [
       "True"
      ]
     },
     "execution_count": 13,
     "metadata": {},
     "output_type": "execute_result"
    }
   ],
   "source": [
    "psm.report(\"peaks_count1\", \"integer\", \"10\", strict_type=True)"
   ]
  },
  {
   "cell_type": "markdown",
   "metadata": {},
   "source": [
    "The method will attempt to cast the value to a proper Python class and store the converted object. In case of a failure, an error will be rasied:"
   ]
  },
  {
   "cell_type": "code",
   "execution_count": 14,
   "metadata": {},
   "outputs": [
    {
     "name": "stdout",
     "output_type": "stream",
     "text": [
      "Incompatible value class for the declared result type (integer). Required: int; got: dict\n"
     ]
    }
   ],
   "source": [
    "try:\n",
    "    psm.report(\"peaks_count1\", \"integer\", {}, strict_type=True)\n",
    "except pipestat.IncompatibleClassError as e:\n",
    "    print(e)"
   ]
  },
  {
   "cell_type": "markdown",
   "metadata": {},
   "source": [
    "### Caching\n",
    "\n",
    "Sometimes an immediate write to the file is not desirable. For example when multiple results are to be reported. `PipeStatManager` can cache the reported results and write them later on. Set `cache` argument to `True` to do so:\n"
   ]
  },
  {
   "cell_type": "code",
   "execution_count": 15,
   "metadata": {},
   "outputs": [
    {
     "name": "stderr",
     "output_type": "stream",
     "text": [
      "Cached new 'test' record: cores_count=4(integer)\n",
      "Cached new 'test' record: files_size=5.3(float)\n"
     ]
    },
    {
     "data": {
      "text/plain": [
       "True"
      ]
     },
     "execution_count": 15,
     "metadata": {},
     "output_type": "execute_result"
    }
   ],
   "source": [
    "psm.report(\"cores_count\", \"integer\", 4, cache=True)\n",
    "psm.report(\"files_size\", \"float\", 5.3, cache=True)"
   ]
  },
  {
   "cell_type": "markdown",
   "metadata": {},
   "source": [
    "Inspect the obeject's cache"
   ]
  },
  {
   "cell_type": "code",
   "execution_count": 16,
   "metadata": {},
   "outputs": [
    {
     "data": {
      "text/plain": [
       "{'test': {'cores_count': {'value': 4, 'type': 'integer'},\n",
       "  'files_size': {'value': 5.3, 'type': 'float'}}}"
      ]
     },
     "execution_count": 16,
     "metadata": {},
     "output_type": "execute_result"
    }
   ],
   "source": [
    "psm.cache"
   ]
  },
  {
   "cell_type": "markdown",
   "metadata": {},
   "source": [
    "Subsequently, use `write` method to write the results:"
   ]
  },
  {
   "cell_type": "code",
   "execution_count": 17,
   "metadata": {},
   "outputs": [
    {
     "name": "stderr",
     "output_type": "stream",
     "text": [
      "Wrote 1 cached records: {'test': {'cores_count': {'value': 4, 'type': 'integer'}, 'files_size': {'value': 5.3, 'type': 'float'}}}\n"
     ]
    }
   ],
   "source": [
    "psm.write()"
   ]
  },
  {
   "cell_type": "markdown",
   "metadata": {},
   "source": [
    "The database and cache slots should be updated accordingly:"
   ]
  },
  {
   "cell_type": "code",
   "execution_count": 18,
   "metadata": {},
   "outputs": [
    {
     "name": "stdout",
     "output_type": "stream",
     "text": [
      "PipeStatManager (test)\n",
      "Database length: 4\n",
      "Database: {'test': {'reads_count': {'value': 1000, 'type': 'integer'}, 'peaks_count1': {'value': 10, 'type': 'integer'}, 'cores_count': {'value': 4, 'type': 'integer'}, 'files_size': {'value': 5.3, 'type': 'float'}}}\n",
      "Cache length: 0\n",
      "Cache: {}\n"
     ]
    }
   ],
   "source": [
    "print(psm)"
   ]
  },
  {
   "cell_type": "markdown",
   "metadata": {},
   "source": [
    "### Removal"
   ]
  },
  {
   "cell_type": "markdown",
   "metadata": {},
   "source": [
    "`PipeStatManager` object also supports results removal. Both from cache and database. Use `remove` method to do so:"
   ]
  },
  {
   "cell_type": "code",
   "execution_count": 19,
   "metadata": {},
   "outputs": [
    {
     "data": {
      "text/plain": [
       "True"
      ]
     },
     "execution_count": 19,
     "metadata": {},
     "output_type": "execute_result"
    }
   ],
   "source": [
    "psm.remove(id=\"files_size\")"
   ]
  },
  {
   "cell_type": "markdown",
   "metadata": {},
   "source": [
    "Verify that an appropriate entry from the results was deleted:"
   ]
  },
  {
   "cell_type": "code",
   "execution_count": 20,
   "metadata": {},
   "outputs": [
    {
     "name": "stdout",
     "output_type": "stream",
     "text": [
      "PipeStatManager (test)\n",
      "Database length: 3\n",
      "Database: {'test': {'reads_count': {'value': 1000, 'type': 'integer'}, 'peaks_count1': {'value': 10, 'type': 'integer'}, 'cores_count': {'value': 4, 'type': 'integer'}}}\n",
      "Cache length: 0\n",
      "Cache: {}\n"
     ]
    }
   ],
   "source": [
    "print(psm)"
   ]
  }
 ],
 "metadata": {
  "kernelspec": {
   "display_name": "Python 3",
   "language": "python",
   "name": "python3"
  },
  "language_info": {
   "codemirror_mode": {
    "name": "ipython",
    "version": 3
   },
   "file_extension": ".py",
   "mimetype": "text/x-python",
   "name": "python",
   "nbconvert_exporter": "python",
   "pygments_lexer": "ipython3",
   "version": "3.6.5"
  }
 },
 "nbformat": 4,
 "nbformat_minor": 2
}
